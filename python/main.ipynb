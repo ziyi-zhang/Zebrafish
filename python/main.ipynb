{
 "cells": [
  {
   "cell_type": "code",
   "execution_count": 1,
   "metadata": {},
   "outputs": [],
   "source": [
    "import numpy as np\n",
    "import scipy.io\n",
    "import meshplot as mp\n",
    "import igl\n",
    "import meshio\n",
    "import h5py\n",
    "from shapely.geometry import Polygon, Point\n",
    "\n",
    "import sys\n",
    "sys.path.append('./ShellUtils')\n",
    "%load_ext autoreload\n",
    "%autoreload 2\n",
    "import Gen, TriMesh, Visual, Geometry"
   ]
  },
  {
   "cell_type": "code",
   "execution_count": 22,
   "metadata": {},
   "outputs": [
    {
     "output_type": "stream",
     "name": "stdout",
     "text": [
      "Keys: <KeysViewHDF5 ['E', 'F', 'Nverts', 'V', 'discr_order', 'frames', 'imgCols', 'imgRows', 'is_linear', 'layerPerImg', 'markerRCMap_mat', 'max_tet_vol', 'n_refs', 'nu', 'offset', 'radius_edge_ratio', 'resolutionX', 'resolutionY', 'resolutionZ', 'upsample', 'vismesh_rel_area']>\n"
     ]
    }
   ],
   "source": [
    "# read re-analysis H5 file\n",
    "with h5py.File('/Users/ziyizhang/Projects/Zebrafish/data/ctrl_em1_filter-analysis-02_18T09_59-AnalysisInput.h5', 'r+') as f:\n",
    "    print(\"Keys: %s\" % f.keys())\n",
    "\n",
    "    V = f['V'].value[()]\n",
    "    F = f['F'].value[()]\n",
    "    frames = f['frames'].value[()]\n",
    "    Nverts = f['Nverts'].value[()]\n",
    "    VV = np.zeros((frames, Nverts, 3))\n",
    "    for i in range(frames):\n",
    "        VV[i, :, :] = V[i*Nverts:(i+1)*Nverts, :]"
   ]
  },
  {
   "cell_type": "code",
   "execution_count": 18,
   "metadata": {},
   "outputs": [
    {
     "output_type": "execute_result",
     "data": {
      "text/plain": [
       "array([252.33082073, 252.2895558 ,  23.61444444])"
      ]
     },
     "metadata": {},
     "execution_count": 18
    }
   ],
   "source": [
    "# re-store global displacement"
   ]
  },
  {
   "cell_type": "code",
   "execution_count": 28,
   "metadata": {},
   "outputs": [],
   "source": [
    "meanL = np.array([igl.avg_edge_length(np.squeeze(VV[f, :, :]), F) for f in range(frames)])"
   ]
  },
  {
   "cell_type": "code",
   "execution_count": 31,
   "metadata": {},
   "outputs": [
    {
     "output_type": "execute_result",
     "data": {
      "text/plain": [
       "(302, 3)"
      ]
     },
     "metadata": {},
     "execution_count": 31
    }
   ],
   "source": [
    "F.shape"
   ]
  },
  {
   "cell_type": "code",
   "execution_count": 27,
   "metadata": {},
   "outputs": [
    {
     "output_type": "display_data",
     "data": {
      "text/plain": "Renderer(camera=PerspectiveCamera(children=(DirectionalLight(color='white', intensity=0.6, position=(158.26949…",
      "application/vnd.jupyter.widget-view+json": {
       "version_major": 2,
       "version_minor": 0,
       "model_id": "85b5a7b57029456c93d1d69e7f4887a9"
      }
     },
     "metadata": {}
    },
    {
     "output_type": "execute_result",
     "data": {
      "text/plain": [
       "<meshplot.Viewer.Viewer at 0x7fdb9f257700>"
      ]
     },
     "metadata": {},
     "execution_count": 27
    }
   ],
   "source": [
    "tt = np.squeeze(VV[1, :, :])\n",
    "mp.plot(tt, F, shading={\"wireframe\": True})"
   ]
  },
  {
   "cell_type": "code",
   "execution_count": 115,
   "metadata": {},
   "outputs": [
    {
     "output_type": "stream",
     "name": "stdout",
     "text": [
      "Keys: <KeysViewHDF5 ['T', 'Tid', 'V', 'bm_f', 'bm_v', 'result_f']>\n"
     ]
    }
   ],
   "source": [
    "# Read debug msh\n",
    "with h5py.File('/Users/ziyizhang/Projects/Zebrafish/release/test.h5', 'r+') as f:\n",
    "    print(\"Keys: %s\" % f.keys())\n",
    "    T = f['T'].value[()]\n",
    "    V = f['V'].value[()]\n",
    "\n",
    "    bm_v = f['bm_v'].value[()] \n",
    "    bm_f = f['bm_f'].value[()] \n",
    "    Tid = f['Tid'].value[()]\n",
    "    result_f = f['result_f'].value[()]"
   ]
  },
  {
   "cell_type": "code",
   "execution_count": 107,
   "metadata": {},
   "outputs": [
    {
     "output_type": "display_data",
     "data": {
      "text/plain": "Renderer(camera=PerspectiveCamera(children=(DirectionalLight(color='white', intensity=0.6, position=(51.708511…",
      "application/vnd.jupyter.widget-view+json": {
       "version_major": 2,
       "version_minor": 0,
       "model_id": "c732beca4a0a4d3e938a149447720b14"
      }
     },
     "metadata": {}
    },
    {
     "output_type": "execute_result",
     "data": {
      "text/plain": [
       "2"
      ]
     },
     "metadata": {},
     "execution_count": 107
    }
   ],
   "source": [
    "# clip\n",
    "z_min = 1\n",
    "z_max = 20\n",
    "\n",
    "plt = mp.plot(V, bm_f, shading={\"wireframe\": True})\n",
    "V_clip = np.array([V[i, 2] > z_min and V[i, 2] < z_max for i in range(V.shape[0])])\n",
    "T_clip = T[np.array([V_clip[T[i, 0]] and V_clip[T[i, 1]] and V_clip[T[i, 2]] and V_clip[T[i, 3]] for i in range(T.shape[0])])]\n",
    "plt.add_edges(V, Geometry.t2e(T_clip))\n",
    "plt.add_edges(bm_v, Geometry.f2e(bm_f), shading={\"line_color\": \"red\"})"
   ]
  },
  {
   "cell_type": "code",
   "execution_count": 113,
   "metadata": {},
   "outputs": [
    {
     "output_type": "stream",
     "name": "stdout",
     "text": [
      "(1026,)\n(1025,)\n"
     ]
    },
    {
     "output_type": "execute_result",
     "data": {
      "text/plain": [
       "array([4595], dtype=int32)"
      ]
     },
     "metadata": {},
     "execution_count": 113
    }
   ],
   "source": [
    "print(Tid.shape)\n",
    "Tid_unique, count = np.unique(Tid, return_counts=True)\n",
    "print(Tid_unique.shape)\n",
    "Tid_unique[count > 1]"
   ]
  },
  {
   "cell_type": "code",
   "execution_count": 117,
   "metadata": {},
   "outputs": [
    {
     "output_type": "stream",
     "name": "stdout",
     "text": [
      "1\n"
     ]
    },
    {
     "output_type": "display_data",
     "data": {
      "text/plain": "Renderer(camera=PerspectiveCamera(children=(DirectionalLight(color='white', intensity=0.6, position=(51.708511…",
      "application/vnd.jupyter.widget-view+json": {
       "version_major": 2,
       "version_minor": 0,
       "model_id": "7719aaba67b546ecb2e23ce426b79176"
      }
     },
     "metadata": {}
    },
    {
     "output_type": "execute_result",
     "data": {
      "text/plain": [
       "3"
      ]
     },
     "metadata": {},
     "execution_count": 117
    }
   ],
   "source": [
    "T_boundary = igl.boundary_facets(T)\n",
    "components = igl.face_components(T_boundary)\n",
    "print(components.max() + 1)\n",
    "\n",
    "plt = mp.plot(V, bm_f, shading={\"wireframe\": True})\n",
    "#plt = mp.plot(V, Geometry.t2e(T[Tid, :]), shading={\"wireframe\": True})\n",
    "plt.add_edges(V, Geometry.t2e(T[Tid]), shading={\"line_color\": \"blue\"})\n",
    "plt.add_edges(V, Geometry.f2e(bm_f), shading={\"line_color\": \"black\"})\n",
    "# plt.add_points(V[[129], :], shading={\"point_color\": \"red\", \"point_size\": 5})\n",
    "\n",
    "plt.add_points(V[[678]], shading={\"point_color\": \"red\", \"point_size\": 5})\n",
    "plt.add_points(V[[708]], shading={\"point_color\": \"blue\", \"point_size\": 5})\n"
   ]
  },
  {
   "cell_type": "code",
   "execution_count": 87,
   "metadata": {},
   "outputs": [],
   "source": [
    "t_with_129 = np.where(np.any(T[Tid] == 129, axis = 1)) "
   ]
  },
  {
   "cell_type": "code",
   "execution_count": 95,
   "metadata": {},
   "outputs": [
    {
     "output_type": "execute_result",
     "data": {
      "text/plain": [
       "array([[False, False, False, False],\n",
       "       [False, False, False, False],\n",
       "       [False, False, False, False],\n",
       "       ...,\n",
       "       [False, False, False, False],\n",
       "       [False, False, False, False],\n",
       "       [False, False, False, False]])"
      ]
     },
     "metadata": {},
     "execution_count": 95
    }
   ],
   "source": [
    "T[Tid] == 129"
   ]
  },
  {
   "cell_type": "code",
   "execution_count": 88,
   "metadata": {},
   "outputs": [
    {
     "output_type": "execute_result",
     "data": {
      "text/plain": [
       "array([[ 149,  138,  141,  129],\n",
       "       [ 149,  138,  141,  129],\n",
       "       [ 149,  138,  141,  129],\n",
       "       [ 138,  124,  129, 1679],\n",
       "       [ 141,  149,  129, 1679],\n",
       "       [ 149,  138,  129, 1679],\n",
       "       [ 129,  117,  125, 1923],\n",
       "       [ 129,  109,  117, 1923],\n",
       "       [ 141,  129,  125, 1923],\n",
       "       [ 109,  129,  124, 2048]], dtype=int32)"
      ]
     },
     "metadata": {},
     "execution_count": 88
    }
   ],
   "source": [
    "T[Tid][t_with_129]"
   ]
  },
  {
   "cell_type": "code",
   "execution_count": 91,
   "metadata": {},
   "outputs": [
    {
     "output_type": "execute_result",
     "data": {
      "text/plain": [
       "(303,)"
      ]
     },
     "metadata": {},
     "execution_count": 91
    }
   ],
   "source": [
    "np.unique(Tid).shape"
   ]
  },
  {
   "cell_type": "code",
   "execution_count": 94,
   "metadata": {},
   "outputs": [
    {
     "output_type": "display_data",
     "data": {
      "text/plain": "Renderer(camera=PerspectiveCamera(children=(DirectionalLight(color='white', intensity=0.6, position=(33.910924…",
      "application/vnd.jupyter.widget-view+json": {
       "version_major": 2,
       "version_minor": 0,
       "model_id": "8020cfac95584571b491e3de8bdd9b1b"
      }
     },
     "metadata": {}
    },
    {
     "output_type": "execute_result",
     "data": {
      "text/plain": [
       "3"
      ]
     },
     "metadata": {},
     "execution_count": 94
    }
   ],
   "source": [
    "plt = mp.plot(V, Geometry.t2e(T[Tid][t_with_129]), shading={\"wireframe\": \"true\", \"line_color\": \"red\"})\n",
    "plt.add_edges(V, Geometry.f2e(bm_f))\n",
    "\n",
    "plt.add_points(V[np.array([149, 138, 141, 129])], shading={\"point_color\": \"red\", \"point_size\": 5})\n",
    "plt.add_points(V[np.array([1679])], shading={\"point_color\": \"blue\", \"point_size\": 5})"
   ]
  },
  {
   "cell_type": "code",
   "execution_count": 78,
   "metadata": {},
   "outputs": [],
   "source": [
    "TTid = T[Tid]"
   ]
  },
  {
   "cell_type": "code",
   "execution_count": null,
   "metadata": {},
   "outputs": [],
   "source": []
  },
  {
   "cell_type": "code",
   "execution_count": 44,
   "metadata": {},
   "outputs": [],
   "source": [
    "Tid_array = T[Tid].flatten()"
   ]
  },
  {
   "cell_type": "code",
   "execution_count": 48,
   "metadata": {},
   "outputs": [],
   "source": [
    "Tid_array = np.sort(Tid_array)"
   ]
  },
  {
   "cell_type": "code",
   "execution_count": 54,
   "metadata": {},
   "outputs": [],
   "source": [
    "bmid_array = bm_f.flatten()\n",
    "bmid_array = np.sort(bmid_array)"
   ]
  },
  {
   "cell_type": "code",
   "execution_count": 62,
   "metadata": {},
   "outputs": [
    {
     "output_type": "execute_result",
     "data": {
      "text/plain": [
       "(array([675, 676, 677, 678, 681, 682, 683, 684, 685, 686, 689, 690, 691,\n",
       "        692, 695, 696, 697, 698, 701, 702, 703, 704, 707, 708, 709, 710,\n",
       "        713, 714, 715, 716, 719, 720, 721, 722, 725, 726, 727, 728, 729,\n",
       "        730, 731, 732, 733, 734, 735, 736, 737, 738, 739, 740, 741, 742,\n",
       "        743, 744, 745, 746, 747, 748, 749, 750, 751, 752, 753, 754, 755,\n",
       "        756, 757, 758, 759, 760, 761, 762, 763, 764, 765, 766, 767, 768,\n",
       "        769, 770, 771, 772, 773, 774, 775, 776, 777, 778, 779, 780, 781,\n",
       "        782, 783, 784, 785, 786, 787, 788, 789, 790, 791, 792, 793, 794,\n",
       "        795, 796, 797, 798, 799, 800, 801, 802, 803, 804, 805, 806, 807,\n",
       "        808, 809, 810, 811, 812, 813, 814, 815, 816, 817, 818, 819, 820,\n",
       "        821, 822, 823, 824, 825, 826, 827, 828, 829, 830, 831, 832, 833,\n",
       "        834, 835, 836, 837, 838, 839, 840, 841, 842, 843, 844, 845, 846,\n",
       "        847, 848, 849, 850, 851, 852, 853, 854, 855, 856, 857, 858, 859,\n",
       "        860, 861, 862, 863, 864, 865, 866, 867, 868, 869, 870, 871, 872,\n",
       "        873, 874, 875, 876, 877, 878, 879, 880, 881, 882, 883, 884, 885,\n",
       "        886, 887, 888, 889, 890, 891, 892, 893, 894, 895, 896, 897, 898,\n",
       "        899, 900, 901, 902, 903, 904, 905]),)"
      ]
     },
     "metadata": {},
     "execution_count": 62
    }
   ],
   "source": [
    "np.where( bmid_array-Tid_array[0:906] != 0 )"
   ]
  },
  {
   "cell_type": "code",
   "execution_count": 63,
   "metadata": {},
   "outputs": [
    {
     "output_type": "execute_result",
     "data": {
      "text/plain": [
       "130"
      ]
     },
     "metadata": {},
     "execution_count": 63
    }
   ],
   "source": [
    "bmid_array[675]"
   ]
  },
  {
   "cell_type": "code",
   "execution_count": 56,
   "metadata": {},
   "outputs": [
    {
     "output_type": "execute_result",
     "data": {
      "text/plain": [
       "array([  0,   0,   1,   1,   1,   2,   2,   2,   3,   3,   3,   4,   4,\n",
       "         5,   5,   6,   6,   7,   7,   8,   9,   9,   9,  10,  10,  10,\n",
       "        10,  10,  10,  11,  11,  12,  12,  12,  12,  12,  12,  13,  13,\n",
       "        13,  13,  13,  13,  14,  14,  14,  14,  14,  14,  15,  15,  15,\n",
       "        15,  16,  16,  16,  16,  17,  17,  17,  17,  18,  18,  18,  18,\n",
       "        18,  18,  19,  19,  19,  19,  20,  20,  20,  20,  21,  21,  21,\n",
       "        21,  21,  21,  22,  22,  22,  22,  22,  22,  23,  23,  23,  23,\n",
       "        23,  23,  24,  24,  24,  24,  24,  24,  25,  25,  25,  25,  25,\n",
       "        25,  26,  26,  26,  26,  26,  26,  27,  27,  27,  27,  28,  28,\n",
       "        28,  28,  28,  28,  29,  29,  29,  29,  29,  29,  30,  30,  30,\n",
       "        30,  30,  30,  31,  31,  31,  31,  31,  31,  32,  32,  33,  33,\n",
       "        33,  33,  33,  33,  34,  34,  34,  34,  34,  34,  35,  35,  35,\n",
       "        35,  35,  35,  36,  36,  36,  36,  36,  36,  37,  37,  38,  38,\n",
       "        38,  38,  38,  38,  39,  39,  39,  39,  39,  39,  40,  40,  40,\n",
       "        40,  40,  40,  41,  41,  41,  41,  41,  41,  42,  42,  42,  42,\n",
       "        42,  42,  43,  43,  43,  43,  44,  44,  44,  44,  44,  44,  45,\n",
       "        45,  45,  45,  45,  45,  46,  46,  46,  46,  47,  47,  47,  47,\n",
       "        47,  47,  48,  48,  48,  48,  48,  48,  49,  49,  49,  49,  49,\n",
       "        49,  50,  50,  50,  50,  50,  50,  51,  51,  51,  51,  51,  51,\n",
       "        52,  52,  52,  52,  52,  52,  53,  53,  53,  53,  53,  53,  54,\n",
       "        54,  54,  54,  54,  54,  55,  55,  55,  55,  55,  55,  56,  56,\n",
       "        56,  56,  56,  56,  57,  57,  57,  57,  57,  57,  58,  58,  59,\n",
       "        59,  59,  59,  59,  59,  60,  60,  60,  60,  60,  60,  61,  61,\n",
       "        61,  61,  61,  61,  62,  62,  63,  63,  63,  63,  63,  63,  64,\n",
       "        64,  64,  64,  64,  64,  65,  65,  65,  65,  65,  65,  66,  66,\n",
       "        66,  66,  66,  66,  67,  67,  67,  67,  68,  68,  68,  68,  68,\n",
       "        68,  69,  69,  69,  69,  69,  69,  70,  70,  70,  70,  71,  71,\n",
       "        71,  71,  71,  71,  72,  72,  72,  72,  72,  72,  73,  73,  73,\n",
       "        73,  73,  73,  74,  74,  74,  74,  74,  74,  75,  75,  75,  75,\n",
       "        75,  75,  76,  76,  76,  76,  76,  76,  77,  77,  77,  77,  77,\n",
       "        77,  78,  78,  79,  79,  79,  79,  79,  79,  80,  80,  80,  80,\n",
       "        80,  80,  81,  81,  81,  81,  81,  81,  82,  82,  82,  82,  82,\n",
       "        82,  83,  83,  83,  83,  83,  83,  84,  84,  84,  84,  84,  84,\n",
       "        85,  85,  85,  85,  85,  85,  86,  86,  86,  86,  86,  86,  87,\n",
       "        87,  88,  88,  88,  88,  88,  88,  89,  89,  89,  89,  89,  89,\n",
       "        90,  90,  90,  90,  90,  90,  91,  91,  91,  91,  92,  92,  92,\n",
       "        92,  92,  92,  93,  93,  93,  93,  93,  93,  94,  94,  94,  94,\n",
       "        94,  94,  95,  95,  95,  95,  95,  95,  96,  96,  96,  96,  96,\n",
       "        96,  97,  97,  97,  97,  98,  98,  98,  98,  98,  98,  99,  99,\n",
       "        99,  99,  99,  99, 100, 100, 100, 100, 100, 100, 101, 101, 101,\n",
       "       101, 101, 101, 102, 102, 102, 102, 102, 102, 103, 103, 103, 103,\n",
       "       103, 103, 104, 104, 104, 104, 104, 104, 105, 105, 106, 106, 106,\n",
       "       106, 106, 106, 107, 107, 107, 107, 107, 107, 108, 108, 109, 109,\n",
       "       109, 109, 109, 109, 110, 110, 110, 110, 110, 110, 111, 111, 111,\n",
       "       111, 111, 111, 112, 112, 112, 112, 112, 112, 113, 113, 113, 113,\n",
       "       113, 113, 114, 114, 114, 114, 114, 114, 115, 115, 115, 115, 116,\n",
       "       116, 116, 116, 116, 116, 117, 117, 117, 117, 117, 117, 118, 118,\n",
       "       118, 118, 118, 118, 119, 119, 119, 119, 119, 119, 120, 120, 120,\n",
       "       120, 120, 120, 121, 121, 121, 121, 121, 121, 122, 122, 122, 122,\n",
       "       122, 122, 123, 123, 123, 123, 124, 124, 124, 124, 124, 124, 125,\n",
       "       125, 125, 125, 125, 125, 126, 126, 126, 126, 126, 126, 127, 127,\n",
       "       128, 128, 128, 128, 128, 128, 129, 129, 129, 129, 129, 129, 130,\n",
       "       130, 130, 130, 130, 130, 131, 131, 132, 132, 132, 132, 132, 132,\n",
       "       133, 133, 133, 133, 133, 133, 134, 134, 134, 134, 134, 134, 135,\n",
       "       135, 135, 135, 135, 135, 136, 136, 136, 136, 136, 136, 137, 137,\n",
       "       137, 137, 137, 137, 138, 138, 138, 138, 138, 138, 139, 139, 139,\n",
       "       139, 140, 140, 140, 140, 140, 140, 141, 141, 141, 141, 141, 141,\n",
       "       142, 142, 142, 142, 142, 142, 143, 143, 143, 143, 143, 143, 144,\n",
       "       144, 144, 144, 144, 144, 145, 145, 145, 145, 145, 145, 146, 146,\n",
       "       146, 146, 147, 147, 147, 147, 147, 147, 148, 148, 148, 148, 148,\n",
       "       148, 149, 149, 149, 149, 149, 149, 150, 150, 150, 150, 150, 150,\n",
       "       151, 151, 152, 152, 152, 152, 152, 152, 153, 153, 153, 153, 153,\n",
       "       153, 154, 154, 154, 154, 154, 154, 155, 155, 156, 156, 156, 156,\n",
       "       156, 156, 157, 157, 157, 157, 157, 157, 158, 158, 158, 158, 158,\n",
       "       158, 159, 159, 159, 159, 159, 159, 160, 160, 160, 160, 160, 160,\n",
       "       161, 161, 161, 161, 161, 161, 162, 162, 162, 162, 163, 163, 163,\n",
       "       163, 163, 163, 164, 164, 164, 164, 164, 164, 165, 165, 165, 165,\n",
       "       165, 165, 166, 166, 166, 167, 167, 167, 168, 168, 169, 169, 169,\n",
       "       170, 170, 170, 171, 171, 171, 172, 172, 172, 173, 173, 173, 174,\n",
       "       175, 175, 175, 176, 176, 176, 177, 177, 177], dtype=int32)"
      ]
     },
     "metadata": {},
     "execution_count": 56
    }
   ],
   "source": [
    "bmid_array"
   ]
  },
  {
   "cell_type": "code",
   "execution_count": 59,
   "metadata": {},
   "outputs": [
    {
     "output_type": "execute_result",
     "data": {
      "text/plain": [
       "array([  0,   0,   1,   1,   1,   2,   2,   2,   3,   3,   3,   4,   4,\n",
       "         5,   5,   6,   6,   7,   7,   8,   9,   9,   9,  10,  10,  10,\n",
       "        10,  10,  10,  11,  11,  12,  12,  12,  12,  12,  12,  13,  13,\n",
       "        13,  13,  13,  13,  14,  14,  14,  14,  14,  14,  15,  15,  15,\n",
       "        15,  16,  16,  16,  16,  17,  17,  17,  17,  18,  18,  18,  18,\n",
       "        18,  18,  19,  19,  19,  19,  20,  20,  20,  20,  21,  21,  21,\n",
       "        21,  21,  21,  22,  22,  22,  22,  22,  22,  23,  23,  23,  23,\n",
       "        23,  23,  24,  24,  24,  24,  24,  24,  25,  25,  25,  25,  25,\n",
       "        25,  26,  26,  26,  26,  26,  26,  27,  27,  27,  27,  28,  28,\n",
       "        28,  28,  28,  28,  29,  29,  29,  29,  29,  29,  30,  30,  30,\n",
       "        30,  30,  30,  31,  31,  31,  31,  31,  31,  32,  32,  33,  33,\n",
       "        33,  33,  33,  33,  34,  34,  34,  34,  34,  34,  35,  35,  35,\n",
       "        35,  35,  35,  36,  36,  36,  36,  36,  36,  37,  37,  38,  38,\n",
       "        38,  38,  38,  38,  39,  39,  39,  39,  39,  39,  40,  40,  40,\n",
       "        40,  40,  40,  41,  41,  41,  41,  41,  41,  42,  42,  42,  42,\n",
       "        42,  42,  43,  43,  43,  43,  44,  44,  44,  44,  44,  44,  45,\n",
       "        45,  45,  45,  45,  45,  46,  46,  46,  46,  47,  47,  47,  47,\n",
       "        47,  47,  48,  48,  48,  48,  48,  48,  49,  49,  49,  49,  49,\n",
       "        49,  50,  50,  50,  50,  50,  50,  51,  51,  51,  51,  51,  51,\n",
       "        52,  52,  52,  52,  52,  52,  53,  53,  53,  53,  53,  53,  54,\n",
       "        54,  54,  54,  54,  54,  55,  55,  55,  55,  55,  55,  56,  56,\n",
       "        56,  56,  56,  56,  57,  57,  57,  57,  57,  57,  58,  58,  59,\n",
       "        59,  59,  59,  59,  59,  60,  60,  60,  60,  60,  60,  61,  61,\n",
       "        61,  61,  61,  61,  62,  62,  63,  63,  63,  63,  63,  63,  64,\n",
       "        64,  64,  64,  64,  64,  65,  65,  65,  65,  65,  65,  66,  66,\n",
       "        66,  66,  66,  66,  67,  67,  67,  67,  68,  68,  68,  68,  68,\n",
       "        68,  69,  69,  69,  69,  69,  69,  70,  70,  70,  70,  71,  71,\n",
       "        71,  71,  71,  71,  72,  72,  72,  72,  72,  72,  73,  73,  73,\n",
       "        73,  73,  73,  74,  74,  74,  74,  74,  74,  75,  75,  75,  75,\n",
       "        75,  75,  76,  76,  76,  76,  76,  76,  77,  77,  77,  77,  77,\n",
       "        77,  78,  78,  79,  79,  79,  79,  79,  79,  80,  80,  80,  80,\n",
       "        80,  80,  81,  81,  81,  81,  81,  81,  82,  82,  82,  82,  82,\n",
       "        82,  83,  83,  83,  83,  83,  83,  84,  84,  84,  84,  84,  84,\n",
       "        85,  85,  85,  85,  85,  85,  86,  86,  86,  86,  86,  86,  87,\n",
       "        87,  88,  88,  88,  88,  88,  88,  89,  89,  89,  89,  89,  89,\n",
       "        90,  90,  90,  90,  90,  90,  91,  91,  91,  91,  92,  92,  92,\n",
       "        92,  92,  92,  93,  93,  93,  93,  93,  93,  94,  94,  94,  94,\n",
       "        94,  94,  95,  95,  95,  95,  95,  95,  96,  96,  96,  96,  96,\n",
       "        96,  97,  97,  97,  97,  98,  98,  98,  98,  98,  98,  99,  99,\n",
       "        99,  99,  99,  99, 100, 100, 100, 100, 100, 100, 101, 101, 101,\n",
       "       101, 101, 101, 102, 102, 102, 102, 102, 102, 103, 103, 103, 103,\n",
       "       103, 103, 104, 104, 104, 104, 104, 104, 105, 105, 106, 106, 106,\n",
       "       106, 106, 106, 107, 107, 107, 107, 107, 107, 108, 108, 109, 109,\n",
       "       109, 109, 109, 109, 110, 110, 110, 110, 110, 110, 111, 111, 111,\n",
       "       111, 111, 111, 112, 112, 112, 112, 112, 112, 113, 113, 113, 113,\n",
       "       113, 113, 114, 114, 114, 114, 114, 114, 115, 115, 115, 115, 116,\n",
       "       116, 116, 116, 116, 116, 117, 117, 117, 117, 117, 117, 118, 118,\n",
       "       118, 118, 118, 118, 119, 119, 119, 119, 119, 119, 120, 120, 120,\n",
       "       120, 120, 120, 121, 121, 121, 121, 121, 121, 122, 122, 122, 122,\n",
       "       122, 122, 123, 123, 123, 123, 124, 124, 124, 124, 124, 124, 125,\n",
       "       125, 125, 125, 125, 125, 126, 126, 126, 126, 126, 126, 127, 127,\n",
       "       128, 128, 128, 128, 128, 128, 129, 129, 129, 129, 129, 129, 129,\n",
       "       129, 129, 129, 130, 130, 130, 130, 130, 130, 131, 131, 132, 132,\n",
       "       132, 132, 132, 132, 133, 133, 133, 133, 133, 133, 134, 134, 134,\n",
       "       134, 134, 134, 135, 135, 135, 135, 135, 135, 136, 136, 136, 136,\n",
       "       136, 136, 137, 137, 137, 137, 137, 137, 138, 138, 138, 138, 138,\n",
       "       138, 138, 138, 139, 139, 139, 139, 140, 140, 140, 140, 140, 140,\n",
       "       141, 141, 141, 141, 141, 141, 141, 141, 142, 142, 142, 142, 142,\n",
       "       142, 143, 143, 143, 143, 143, 143, 144, 144, 144, 144, 144, 144,\n",
       "       145, 145, 145, 145, 145, 145, 146, 146, 146, 146, 147, 147, 147,\n",
       "       147, 147, 147, 148, 148, 148, 148, 148, 148, 149, 149, 149, 149,\n",
       "       149, 149, 149, 149, 149, 149, 150, 150, 150, 150, 150, 150, 151,\n",
       "       151, 152, 152, 152, 152, 152, 152, 153, 153, 153, 153, 153, 153,\n",
       "       154, 154, 154, 154, 154, 154, 155, 155, 156, 156, 156, 156, 156,\n",
       "       156, 157, 157, 157, 157, 157, 157, 158, 158, 158, 158, 158, 158,\n",
       "       159, 159, 159, 159, 159, 159, 160, 160, 160, 160, 160, 160, 161,\n",
       "       161, 161, 161, 161, 161, 162, 162, 162, 162, 163, 163, 163, 163,\n",
       "       163, 163, 164, 164, 164, 164, 164, 164, 165, 165, 165, 165, 165,\n",
       "       165, 166, 166, 166, 167, 167, 167, 168, 168, 169, 169, 169, 170,\n",
       "       170, 170, 171, 171, 171, 172, 172, 172, 173], dtype=int32)"
      ]
     },
     "metadata": {},
     "execution_count": 59
    }
   ],
   "source": [
    "np.squeeze(Tid_array[0:906])"
   ]
  },
  {
   "cell_type": "code",
   "execution_count": 12,
   "metadata": {},
   "outputs": [
    {
     "output_type": "stream",
     "name": "stdout",
     "text": [
      "Keys: <KeysViewHDF5 ['E', 'F', 'Nverts', 'V', 'discr_order', 'frames', 'is_linear', 'markerRCMap_mat', 'max_tet_vol', 'n_refs', 'nu', 'offset', 'radius_edge_ratio', 'upsample', 'vismesh_rel_area']>\n"
     ]
    }
   ],
   "source": [
    "f = h5py.File('/Users/ziyizhang/Projects/Zebrafish/data/em5_19nov2020-3-1-analysis-02_15T02_04-AnalysisInput.h5', 'r+')\n",
    "print(\"Keys: %s\" % f.keys())\n",
    "E = f['E'].value[()]\n",
    "F = f['F'].value[()]\n",
    "Nverts = f['Nverts'].value[()]\n",
    "V = f['V'].value[()]\n",
    "discr_order = f['discr_order'].value[()]\n",
    "frames = f['frames'].value[()]\n",
    "markerRCMap_mat = f['markerRCMap_mat'].value[()]"
   ]
  },
  {
   "cell_type": "code",
   "execution_count": null,
   "metadata": {},
   "outputs": [],
   "source": []
  },
  {
   "cell_type": "code",
   "execution_count": 14,
   "metadata": {},
   "outputs": [
    {
     "output_type": "display_data",
     "data": {
      "text/plain": "Renderer(camera=PerspectiveCamera(children=(DirectionalLight(color='white', intensity=0.6, position=(0.4995164…",
      "application/vnd.jupyter.widget-view+json": {
       "version_major": 2,
       "version_minor": 0,
       "model_id": "174eea116cf142f4b7af13173e076ab9"
      }
     },
     "metadata": {}
    },
    {
     "output_type": "execute_result",
     "data": {
      "text/plain": [
       "1"
      ]
     },
     "metadata": {},
     "execution_count": 14
    }
   ],
   "source": [
    "plt = mp.plot(shell_top, Geometry.f2e(F_h5), shading={\"wireframe\": True})\n",
    "plt.add_edges(shell_base, Geometry.f2e(F_h5))\n",
    "#plt.add_mesh(shell_top, Geometry.f2e(F_h5))"
   ]
  },
  {
   "cell_type": "code",
   "execution_count": null,
   "metadata": {},
   "outputs": [],
   "source": [
    "scipy.io.savemat('./MatlabScripts/length.mat', mdict={'mat': lengthMat})"
   ]
  },
  {
   "cell_type": "code",
   "execution_count": null,
   "metadata": {},
   "outputs": [],
   "source": [
    "# Gen cube test ply\n",
    "V_cube, F_cube = Gen.GenCubeObj()\n",
    "igl.write_triangle_mesh(\"./data/dualShell_cube.ply\", V_cube, F_cube, False)"
   ]
  },
  {
   "cell_type": "code",
   "execution_count": null,
   "metadata": {},
   "outputs": [],
   "source": [
    "# dualShell_test\n",
    "Vraw1 = np.array([[1, 1, 1], [2, 1, 1], [1, 2, 1]])\n",
    "Vraw2 = np.array([[1, 1, 2], [2, 1, 2], [1, 2, 2]])\n",
    "Vraw3 = np.array([[1, 1, 3], [3, 1, 3], [1, 3, 3]])\n",
    "Vraw4 = np.array([[1, 1, 4], [3, 1, 4], [1, 3, 4]])\n",
    "Fraw = np.array([[0, 1, 2]])\n",
    "V_shell = np.concatenate((Vraw1, Vraw2), axis=0)\n",
    "V_shell = np.concatenate((V_shell, Vraw3), axis=0)\n",
    "V_shell = np.concatenate((V_shell, Vraw4), axis=0)\n",
    "\n",
    "randTransMat = np.array([[-0.700390490817757,  -0.150045418195264,  -0.697810527901858],\n",
    "                         [-0.114407726497277,  -0.941413431486692,   0.317256399674106],\n",
    "                         [-0.704531072763853,   0.302038281505938,   0.642190660174339]])\n",
    "V_shell = randTransMat.dot(V_shell.transpose()).transpose()\n",
    "\n",
    "F_shell = np.concatenate((Fraw, Fraw+Vraw1.shape[0]), axis=0)\n",
    "F_shell = np.concatenate((F_shell, Fraw+2*Vraw1.shape[0]), axis=0)\n",
    "F_shell = np.concatenate((F_shell, Fraw+3*Vraw1.shape[0]), axis=0)"
   ]
  },
  {
   "cell_type": "code",
   "execution_count": 281,
   "metadata": {},
   "outputs": [],
   "source": [
    "# Load processed mesh\n",
    "# mesh = meshio.read('./dataset/51509.stl.h5_.msh')\n",
    "# mesh = meshio.read('./dataset/log/log_Dec_26_1000/data/128483.stl.h5_.msh')\n",
    "# mesh = meshio.read('./dataset/log/log_Dec_27_1000/data/62286.stl.h5_.msh')\n",
    "# mesh = meshio.read('./dataset/log/log_Dec_28_1000/data/611675.stl.h5_.msh')\n",
    "# mesh = meshio.read('./dataset/log/log_Dec_28_1000/data/77918.stl.h5_.msh')\n",
    "# mesh = meshio.read('./dataset/log/log_Dec_28_1000/data/109130.stl.h5_.msh')\n",
    "# mesh = meshio.read('./dataset/tetgen_result.msh')\n",
    "# mesh = meshio.read('dataset/cube_2_5.obj.h5_col6.h_.msh')\n",
    "mesh = meshio.read('dataset/main_linkage_arm_6a_scaled_unpositioned_back_1.hh.sat.obj.h5_col9.h_.msh')\n",
    "# mesh = meshio.read('./data/dualShell_cube_.msh')\n",
    "V_msh = mesh.points\n",
    "T_msh = mesh.cells[0][1]\n",
    "#energy = mesh.cell_data_dict['slim_energy']['tetra']\n",
    " # label = mesh.cell_data['label'][0]"
   ]
  },
  {
   "cell_type": "code",
   "execution_count": null,
   "metadata": {},
   "outputs": [],
   "source": []
  },
  {
   "cell_type": "code",
   "execution_count": 278,
   "metadata": {},
   "outputs": [
    {
     "output_type": "display_data",
     "data": {
      "text/plain": "Renderer(camera=PerspectiveCamera(children=(DirectionalLight(color='white', intensity=0.6, position=(0.4806083…",
      "application/vnd.jupyter.widget-view+json": {
       "version_major": 2,
       "version_minor": 0,
       "model_id": "e226cd5c688946c589138a39961b209f"
      }
     },
     "metadata": {}
    },
    {
     "output_type": "execute_result",
     "data": {
      "text/plain": [
       "<meshplot.Viewer.Viewer at 0x7fdc58eaf1c0>"
      ]
     },
     "metadata": {},
     "execution_count": 278
    }
   ],
   "source": [
    "mp.plot(V_msh, Geometry.t2e(T_msh), shading={\"wireframe\": True})"
   ]
  },
  {
   "cell_type": "code",
   "execution_count": 282,
   "metadata": {},
   "outputs": [
    {
     "output_type": "stream",
     "name": "stdout",
     "text": [
      "3\n"
     ]
    },
    {
     "output_type": "display_data",
     "data": {
      "text/plain": "Renderer(camera=PerspectiveCamera(children=(DirectionalLight(color='white', intensity=0.6, position=(0.0784776…",
      "application/vnd.jupyter.widget-view+json": {
       "version_major": 2,
       "version_minor": 0,
       "model_id": "937c8f11aee640c08cfdf92abf331218"
      }
     },
     "metadata": {}
    },
    {
     "output_type": "execute_result",
     "data": {
      "text/plain": [
       "1"
      ]
     },
     "metadata": {},
     "execution_count": 282
    }
   ],
   "source": [
    "T_boundary = igl.boundary_facets(T_msh)\n",
    "components = igl.face_components(T_boundary)\n",
    "print(components.max() + 1)\n",
    "plt = mp.plot(V_msh, T_boundary[(components == 3), :], shading={\"wireframe\": True})\n",
    "plt.add_edges(V_msh, Geometry.f2e(T_boundary[(components == 1) | True, :]), shading={\"wireframe\": True})\n",
    "\n",
    "#v = np.array([[-1.6, 1.6, -1.6], [1.6, 1.6, -1.6], [1.6, 1.6, 1.6], [-0.49459213746493375, 1.7758694311449574, 0.39867713464991789], [2.1117691453623983, 2.1117691453623983, -2.1117691453623983]])\n",
    "#plt.add_mesh(v, (np.array([[0, 1, 2, 3], [0, 1, 2, 4]])), shading={\"wireframe\": True})"
   ]
  },
  {
   "cell_type": "code",
   "execution_count": 123,
   "metadata": {},
   "outputs": [
    {
     "output_type": "stream",
     "name": "stdout",
     "text": [
      "(array([  804,  1462, 23890, 24570, 24579, 24590, 26788]),)\n(array([804]),)\n3.677912673797336\n3.5763655151388956\n[2323 2318 2304 6771]\n[4232 4385 4371 4370]\n[4232 4371 4385 4386]\n"
     ]
    }
   ],
   "source": [
    "print(np.nonzero(energy > 10000))\n",
    "print(np.where(np.abs(energy - 18885) < 3))\n",
    "print(energy[10235])\n",
    "print(energy[10236])\n",
    "print(T_msh[804, :])\n",
    "print(T_msh[10235, :])\n",
    "print(T_msh[10236, :])"
   ]
  },
  {
   "cell_type": "code",
   "execution_count": 291,
   "metadata": {},
   "outputs": [
    {
     "output_type": "execute_result",
     "data": {
      "text/plain": [
       "4930"
      ]
     },
     "metadata": {},
     "execution_count": 291
    }
   ],
   "source": [
    "len(str)"
   ]
  },
  {
   "cell_type": "code",
   "execution_count": 211,
   "metadata": {},
   "outputs": [
    {
     "output_type": "stream",
     "name": "stdout",
     "text": [
      "(921, 3)\n(1838, 3)\n920\n"
     ]
    }
   ],
   "source": [
    "V_in, F_in = igl.read_triangle_mesh('/Users/ziyizhang/Projects/ShellMesh/dataset/thin_wall_1.hh.sat.obj.h5.ply')\n",
    "print(V_in.shape)\n",
    "print(F_in.shape)\n",
    "print(F_in.max())"
   ]
  },
  {
   "cell_type": "code",
   "execution_count": 196,
   "metadata": {},
   "outputs": [
    {
     "output_type": "execute_result",
     "data": {
      "text/plain": [
       "array([ 61, 168, 683], dtype=int64)"
      ]
     },
     "metadata": {},
     "execution_count": 196
    }
   ],
   "source": [
    "F_in[984, :]"
   ]
  },
  {
   "cell_type": "code",
   "execution_count": 198,
   "metadata": {},
   "outputs": [],
   "source": [
    "a = igl.doublearea(V_in, F_in)"
   ]
  },
  {
   "cell_type": "code",
   "execution_count": 252,
   "metadata": {},
   "outputs": [
    {
     "output_type": "stream",
     "name": "stdout",
     "text": [
      "0\n"
     ]
    },
    {
     "output_type": "execute_result",
     "data": {
      "text/plain": [
       "array([], shape=(0, 2), dtype=int64)"
      ]
     },
     "metadata": {},
     "execution_count": 252
    }
   ],
   "source": [
    "print(np.max(igl.face_components(F_in)))\n",
    "igl.boundary_facets(F_in)"
   ]
  },
  {
   "cell_type": "code",
   "execution_count": 246,
   "metadata": {},
   "outputs": [
    {
     "output_type": "stream",
     "name": "stdout",
     "text": [
      "(583, 3)\n(1818, 3)\n(1198, 3)\n(3602, 3)\n"
     ]
    }
   ],
   "source": [
    "print(V_in.shape)\n",
    "print(V_msh.shape)\n",
    "print(F_in.shape)\n",
    "print(F_boundary.shape)"
   ]
  },
  {
   "cell_type": "code",
   "execution_count": 223,
   "metadata": {},
   "outputs": [
    {
     "output_type": "stream",
     "name": "stdout",
     "text": [
      "[   0    1    2 ... 1790 1791 1793]\n[1792]\n"
     ]
    }
   ],
   "source": [
    "F_boundary = igl.boundary_facets(T_msh)\n",
    "print(np.unique(F_boundary))\n",
    "vidx = np.setdiff1d(np.arange(1794), np.unique(F_boundary))\n",
    "print(vidx)"
   ]
  },
  {
   "cell_type": "code",
   "execution_count": 248,
   "metadata": {},
   "outputs": [
    {
     "output_type": "execute_result",
     "data": {
      "text/plain": [
       "582"
      ]
     },
     "metadata": {},
     "execution_count": 248
    }
   ],
   "source": [
    "np.max(F_in)"
   ]
  },
  {
   "cell_type": "code",
   "execution_count": 249,
   "metadata": {},
   "outputs": [
    {
     "output_type": "display_data",
     "data": {
      "text/plain": "Renderer(camera=PerspectiveCamera(children=(DirectionalLight(color='white', intensity=0.6, position=(0.0628409…",
      "application/vnd.jupyter.widget-view+json": {
       "version_major": 2,
       "version_minor": 0,
       "model_id": "b6d6b3c744a742cc8c4a36df11440af1"
      }
     },
     "metadata": {}
    }
   ],
   "source": [
    "plt = mp.plot(V_in, Geometry.f2e(F_in), shading={\"wireframe\": True})\n",
    "#plt = mp.plot(V_msh, Geometry.f2e(F_boundary))\n",
    "#plt = mp.plot(V_msh, T_msh, shading={\"wireframe\": True})\n",
    "#plt.add_points(V_msh[[1793], :], shading={\"point_size\": 0.01})"
   ]
  },
  {
   "cell_type": "code",
   "execution_count": 182,
   "metadata": {},
   "outputs": [],
   "source": [
    "tt = np.arange(1400)\n",
    "vidx = np.setdiff1d(tt, np.unique(F))"
   ]
  },
  {
   "cell_type": "code",
   "execution_count": 255,
   "metadata": {},
   "outputs": [
    {
     "output_type": "display_data",
     "data": {
      "text/plain": "Renderer(camera=PerspectiveCamera(children=(DirectionalLight(color='white', intensity=0.6, position=(0.5112514…",
      "application/vnd.jupyter.widget-view+json": {
       "version_major": 2,
       "version_minor": 0,
       "model_id": "cd10a948c1084b3fa61bb594f8a46ff9"
      }
     },
     "metadata": {}
    },
    {
     "output_type": "execute_result",
     "data": {
      "text/plain": [
       "<meshplot.Viewer.Viewer at 0x7fdc5e2448b0>"
      ]
     },
     "metadata": {},
     "execution_count": 255
    }
   ],
   "source": [
    "mp.plot(V_msh, Geometry.t2e(T_msh))"
   ]
  },
  {
   "cell_type": "code",
   "execution_count": 205,
   "metadata": {},
   "outputs": [
    {
     "output_type": "display_data",
     "data": {
      "text/plain": "Renderer(camera=PerspectiveCamera(children=(DirectionalLight(color='white', intensity=0.6, position=(0.4999849…",
      "application/vnd.jupyter.widget-view+json": {
       "version_major": 2,
       "version_minor": 0,
       "model_id": "3e1d3433e04944dfa0be57e70590f13c"
      }
     },
     "metadata": {}
    },
    {
     "output_type": "execute_result",
     "data": {
      "text/plain": [
       "1"
      ]
     },
     "metadata": {},
     "execution_count": 205
    }
   ],
   "source": [
    "plt = mp.plot(V_msh, Geometry.f2e(F_in), shading={\"wireframe\": True})\n",
    "plt.add_points(V_in[vidx, :], shading={\"point_size\": 0.01, \"point_color\": \"green\"})"
   ]
  },
  {
   "cell_type": "code",
   "execution_count": 154,
   "metadata": {},
   "outputs": [
    {
     "output_type": "stream",
     "name": "stdout",
     "text": [
      "#bad_tets = 5295\n"
     ]
    },
    {
     "output_type": "display_data",
     "data": {
      "text/plain": "Renderer(camera=PerspectiveCamera(children=(DirectionalLight(color='white', intensity=0.6, position=(0.4999849…",
      "application/vnd.jupyter.widget-view+json": {
       "version_major": 2,
       "version_minor": 0,
       "model_id": "25149b28947e4ded94a3d749fdc233ed"
      }
     },
     "metadata": {}
    },
    {
     "output_type": "execute_result",
     "data": {
      "text/plain": [
       "6"
      ]
     },
     "metadata": {},
     "execution_count": 154
    }
   ],
   "source": [
    "# Bad tets\n",
    "T_msh_bad = T_msh[:, :]\n",
    "#T_msh_bad = T_msh[[804], :]\n",
    "print(\"#bad_tets = {}\".format(T_msh_bad.shape[0]))\n",
    "vol = igl.volume(V_msh, T_msh_bad)\n",
    "plt = mp.plot(V_msh, T_msh_bad, shading={\"wireframe\": True})\n",
    "\n",
    "\n",
    "plt.add_points(V_msh[[T_msh_bad[0, 0]], :], shading={\"point_size\": 0.01, \"point_color\": \"green\"})\n",
    "plt.add_points(V_msh[[T_msh_bad[0, 1]], :], shading={\"point_size\": 0.01, \"point_color\": \"yellow\"})\n",
    "plt.add_points(V_msh[[T_msh_bad[0, 2]], :], shading={\"point_size\": 0.01, \"point_color\": \"black\"})\n",
    "plt.add_points(V_msh[[T_msh_bad[0, 3]], :], shading={\"point_size\": 0.01})  # red\n",
    "\n",
    "# Add input shell\n",
    "V_in, F_in = igl.read_triangle_mesh('/Users/ziyizhang/Projects/ShellMesh/dataset/109130.stl.h5.ply')\n",
    "B0, B1, T1, T0 = np.split(V_in, 4)\n",
    "plt.add_lines(B1[Geometry.f2e(F_in)[:, 0]], B1[Geometry.f2e(F_in)[:, 1]], shading={\"line_color\": \"red\"})\n",
    "#plt.add_lines(B0[Geometry.f2e(F_in)[:, 0]], B0[Geometry.f2e(F_in)[:, 1]], shading={\"line_color\": \"red\"})\n",
    "plt.add_lines(T1[Geometry.f2e(F_in)[:, 0]], T1[Geometry.f2e(F_in)[:, 1]], shading={\"line_color\": \"blue\"})\n",
    "#plt.add_mesh(T1, F_in)\n",
    "#plt.add_edges(B0, Geometry.f2e(F_in), shading={\"wireframe\": True})\n",
    "#plt.add_edges(B1, Geometry.f2e(F_in), shading={\"wireframe\": True})\n"
   ]
  },
  {
   "cell_type": "code",
   "execution_count": 100,
   "metadata": {},
   "outputs": [
    {
     "output_type": "stream",
     "name": "stdout",
     "text": [
      "#tets = 13\n"
     ]
    },
    {
     "output_type": "display_data",
     "data": {
      "text/plain": "Renderer(camera=PerspectiveCamera(children=(DirectionalLight(color='white', intensity=0.6, position=(0.8276747…",
      "application/vnd.jupyter.widget-view+json": {
       "version_major": 2,
       "version_minor": 0,
       "model_id": "d2e6fb8f18a04836a3578c4e6546be79"
      }
     },
     "metadata": {}
    },
    {
     "output_type": "execute_result",
     "data": {
      "text/plain": [
       "4"
      ]
     },
     "metadata": {},
     "execution_count": 100
    }
   ],
   "source": [
    "# Plot one-ring of a vert\n",
    "V, F = igl.read_triangle_mesh('/Users/ziyizhang/Projects/ShellMesh/dataset/611675.stl.h5.ply')\n",
    "B0, B1, T1, T0 = np.split(V, 4)\n",
    "V1, T1 = igl.read_msh('./dataset/log/log_Dec_28_1000/data/611675.stl.h5_.msh')\n",
    "targetVert = 2707\n",
    "partT = T1[ np.where(T1==targetVert)[0] ]\n",
    "print(\"#tets = {}\".format(partT.shape[0]))\n",
    "\n",
    "plt = mp.plot(V1, Geometry.t2e(partT))\n",
    "#plt.add_points(V1[[targetVert]])\n",
    "plt.add_points(V_msh[[T_msh_bad[0, 0]], :], shading={\"point_size\": 0.01, \"point_color\": \"green\"})\n",
    "plt.add_points(V_msh[[T_msh_bad[0, 1]], :], shading={\"point_size\": 0.01, \"point_color\": \"yellow\"})\n",
    "plt.add_points(V_msh[[T_msh_bad[0, 2]], :], shading={\"point_size\": 0.01, \"point_color\": \"black\"})\n",
    "plt.add_points(V_msh[[T_msh_bad[0, 3]], :], shading={\"point_size\": 0.01})  # red"
   ]
  },
  {
   "cell_type": "code",
   "execution_count": 287,
   "metadata": {},
   "outputs": [
    {
     "output_type": "execute_result",
     "data": {
      "text/plain": [
       "1"
      ]
     },
     "metadata": {},
     "execution_count": 287
    }
   ],
   "source": [
    "min(1, 2)"
   ]
  },
  {
   "cell_type": "code",
   "execution_count": null,
   "metadata": {},
   "outputs": [],
   "source": [
    "V2 = V1.copy()\n",
    "V2[11128] = V2[872]\n",
    "p = mp.plot(V2, Geometry.t2e(partT), wireframe=True)\n",
    "p.add_points(V2[[11128,872]], point_size=0.02)\n",
    "p.add_edges(V2, Geometry.f2e(igl.boundary_facets(partT)), line_color='red')\n",
    "np.linalg.norm(V1[np.unique(partT)] - V1[[11128]],axis=1)[:-1].argmin()\n",
    "igl.volume(V2, partT)\n",
    "partT[partT==11128] = 872\n",
    "igl.volume(V2,np.array([t for t in partT if len(set(t)) ==4]))"
   ]
  },
  {
   "cell_type": "code",
   "execution_count": null,
   "metadata": {},
   "outputs": [],
   "source": [
    "# torch\n",
    "import torch as th\n",
    "\n",
    "thV = th.from_numpy(V1)\n",
    "thV.requires_grad_()\n",
    "x = tw_mips3d(thV, th.from_numpy(partT))\n",
    "x.sum().backward()\n",
    "V2 = V1.copy()\n",
    "V2[11128] -= 1e-20*thV.grad[11128].numpy()\n",
    "(tw_mips3d(V2,partT)).sum()\n",
    "(tw_mips3d(V1,partT)).sum()\n",
    "igl.volume(V2, partT).min()\n",
    "igl.volume(V1, partT).min()\n",
    "\n",
    "\n",
    "def mips3d(V, T):\n",
    "    from numpy import sqrt\n",
    "    Jacs = V[T[:,1:]]-V[T[:,:1]]\n",
    "    invstd = th.from_numpy(np.linalg.inv(np.array([[1,0,0],[0.5,sqrt(3)/2.,0],[0.5,sqrt(3)/6.,sqrt(2)/sqrt(3)]])))\n",
    "    Jacs = invstd@Jacs\n",
    "    frob = th.sum(Jacs**2,axis=1).sum(axis=1)\n",
    "    #invfrob = th.sum(th.inverse(Jacs))\n",
    "    dets = th.det(Jacs)\n",
    "    return frob/dets**(2/3)"
   ]
  },
  {
   "cell_type": "code",
   "execution_count": null,
   "metadata": {},
   "outputs": [],
   "source": [
    "V_in, F_in = igl.read_triangle_mesh('/Users/ziyizhang/Projects/ShellMesh/dataset/51509.stl.h5.ply')\n",
    "plt = mp.plot(V_msh, T_msh[energy > 500, :], c = np.ones(3)/2, shading={\"wireframe\": True})\n",
    "B0,B1,T1,T0 = np.split(V_in, 4)\n",
    "plt.add_mesh(T0, (F_in), shading={\"wireframe\": True})\n",
    "plt.add_mesh(T1, (F_in), shading={\"wireframe\": True})"
   ]
  },
  {
   "cell_type": "code",
   "execution_count": null,
   "metadata": {},
   "outputs": [],
   "source": [
    "vols = igl.volume(V_msh, T_msh)\n",
    "# B0,B1,T1,T0 = np.split(Vs,4)\n",
    "np.median(vols)\n",
    "T_boundary = igl.boundary_facets(T_msh)\n",
    "components = igl.face_components(T_boundary)\n",
    "p = mp.plot(V_msh, T_boundary[(components == -1), :], shading={\"wireframe\": True})\n",
    "p.add_mesh(V_msh, T_msh[vols<1e-9], c=np.ones(3)/3, shading={\"wireframe\": True})\n",
    "# p.add_edges(V_msh, Geometry.f2e(T_msh), shading={\"wireframe\": True})"
   ]
  },
  {
   "cell_type": "code",
   "execution_count": null,
   "metadata": {},
   "outputs": [],
   "source": [
    "p = mp.plot(V_msh_BFS, np.array([[32561, 13493, 17317, 13793]]), shading={\"wireframe\": True})\n",
    "# Clipping\n",
    "F_mask = np.zeros(F.shape[0])\n",
    "xCoord = V[:, 0]\n",
    "yCoord = V[:, 1]\n",
    "zCoord = V[:, 2]\n",
    "xThres_max = (xCoord.max() - xCoord.min()) * 0.12 + xCoord.min()\n",
    "xThres_min = (xCoord.max() - xCoord.min()) * 0.05 + xCoord.min()\n",
    "yThres_max = (yCoord.max() - yCoord.min()) * 0.3 + yCoord.min()\n",
    "yThres_min = (yCoord.max() - yCoord.min()) * 0.25 + yCoord.min()\n",
    "zThres_max = (zCoord.max() - zCoord.min()) * 0.85 + zCoord.min()\n",
    "zThres_min = (zCoord.max() - zCoord.min()) * 0.6 + zCoord.min()\n",
    "for i in range(int(F.shape[0]/4), int(F.shape[0]/4*3)):\n",
    "    if ((V[F[i, 0], 0] < xThres_max) or (V[F[i, 1], 0] < xThres_max) or (V[F[i, 2], 0] < xThres_max)) and \\\n",
    "       ((V[F[i, 0], 1] < yThres_max) or (V[F[i, 1], 1] < yThres_max) or (V[F[i, 2], 1] < yThres_max)) and \\\n",
    "       ((V[F[i, 0], 0] > xThres_min) or (V[F[i, 1], 0] > xThres_min) or (V[F[i, 2], 0] > xThres_min)) and \\\n",
    "       ((V[F[i, 0], 1] > yThres_min) or (V[F[i, 1], 1] > yThres_min) or (V[F[i, 2], 1] > yThres_min)) and \\\n",
    "       ((V[F[i, 0], 2] > zThres_min) or (V[F[i, 1], 2] > zThres_min) or (V[F[i, 2], 2] > zThres_min)) and \\\n",
    "       ((V[F[i, 0], 2] < zThres_max) or (V[F[i, 1], 2] < zThres_max) or (V[F[i, 2], 2] < zThres_max)):\n",
    "        F_mask[i] = True\n",
    "F_mask = np.array(F_mask, dtype=bool)\n",
    "\n",
    "colors = np.array([[1, 2, 3, 4]])\n",
    "colors = np.tile(colors, (int(F.shape[0]/4), 1))\n",
    "colors = colors.flatten('F')\n",
    "p.add_mesh(V, F[F_mask, :], c=colors[F_mask], shading={\"wireframe\": True})"
   ]
  },
  {
   "cell_type": "code",
   "execution_count": null,
   "metadata": {},
   "outputs": [],
   "source": [
    "# boundary_facets\n",
    "F_bound = igl.boundary_facets(T_msh)\n",
    "components = igl.face_components(F_bound)\n",
    "\n",
    "plt = mp.plot(V_msh, F_bound[components == 0, :], shading={\"wireframe\": True})\n",
    "# plt.add_edges(V, Geometry.f2e(F))"
   ]
  },
  {
   "cell_type": "code",
   "execution_count": null,
   "metadata": {},
   "outputs": [],
   "source": [
    "# boundary_facets (clip)\n",
    "F_bound = igl.boundary_facets(T_msh)\n",
    "components = igl.face_components(F_bound)\n",
    "\n",
    "N = F_bound.shape[0]\n",
    "mask = np.zeros((N))\n",
    "xCoord = V_msh[:, 0]\n",
    "xThres = (xCoord.max() + xCoord.min()) / 2.0\n",
    "for i in range(N):\n",
    "    x_mean = (V_msh[F_bound[i, 0], 0] + V_msh[F_bound[i, 1], 0] + V_msh[F_bound[i, 2], 0]) / 3.0\n",
    "    mask[i] = (x_mean < xThres) & (components[i] < 57)\n",
    "mask = np.array(mask, dtype=bool)\n",
    "\n",
    "plt = mp.plot(V_msh, F_bound[mask, :], shading={\"wireframe\": True})\n"
   ]
  },
  {
   "cell_type": "code",
   "execution_count": null,
   "metadata": {},
   "outputs": [],
   "source": [
    "# boundary_facets\n",
    "T_msh_temp = T_msh[(label == 8) | (label == 9), :]\n",
    "Visual.Explode(V_msh, T_msh_temp, 0.25)\n",
    "#plt = mp.plot(V_msh, F_bound[c == 0, :], shading={\"wireframe\": True})\n",
    "#plt.add_mesh(V_msh, F_bound[c == 1, :])"
   ]
  },
  {
   "cell_type": "code",
   "execution_count": null,
   "metadata": {},
   "outputs": [],
   "source": [
    "F_bound[components == 2, :]"
   ]
  },
  {
   "cell_type": "code",
   "execution_count": null,
   "metadata": {},
   "outputs": [],
   "source": [
    "testArr = np.array([5787, 81, 52, 5788])\n",
    "M = T_msh.shape[0]\n",
    "for i in range(M):\n",
    "    if (T_msh[i, 1] in testArr) and (T_msh[i, 2] in testArr) and (T_msh[i, 3] in testArr) :\n",
    "        print(i)\n",
    "        print(T_msh[i, :])\n",
    "        print(label[i])\n",
    "        break\n",
    "print(\"done\")"
   ]
  },
  {
   "cell_type": "code",
   "execution_count": null,
   "metadata": {},
   "outputs": [],
   "source": []
  }
 ],
 "metadata": {
  "kernelspec": {
   "display_name": "Python 3.8",
   "language": "python",
   "name": "python3"
  },
  "language_info": {
   "codemirror_mode": {
    "name": "ipython",
    "version": 3
   },
   "file_extension": ".py",
   "mimetype": "text/x-python",
   "name": "python",
   "nbconvert_exporter": "python",
   "pygments_lexer": "ipython3",
   "version": "3.8.5-final"
  }
 },
 "nbformat": 4,
 "nbformat_minor": 4
}