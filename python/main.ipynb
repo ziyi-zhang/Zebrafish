{
 "cells": [
  {
   "cell_type": "code",
   "execution_count": 1,
   "metadata": {},
   "outputs": [],
   "source": [
    "import numpy as np\n",
    "import numpy.linalg\n",
    "import scipy.io\n",
    "import meshplot as mp\n",
    "from igl import *\n",
    "import meshio\n",
    "import h5py\n",
    "\n",
    "import sys\n",
    "sys.path.append('./ShellUtils')\n",
    "%load_ext autoreload\n",
    "%autoreload 2\n",
    "import Gen, TriMesh, Visual, Geometry"
   ]
  },
  {
   "cell_type": "code",
   "execution_count": 17,
   "metadata": {},
   "outputs": [],
   "source": [
    "InputH5 = '/Users/ziyizhang/Projects/Zebrafish/data/cem2-NewGlobalDisp.h5'\n",
    "idxArray = np.array([1, 2, 3, 6, 12, 28], dtype=int)  # index of markers to align\n",
    "                                                  # cannot be too small or too symmetric"
   ]
  },
  {
   "cell_type": "code",
   "execution_count": 18,
   "metadata": {},
   "outputs": [
    {
     "output_type": "stream",
     "name": "stdout",
     "text": [
      "Keys: <KeysViewHDF5 ['E', 'F', 'Nverts', 'V', 'discr_order', 'frames', 'imgCols', 'imgRows', 'is_linear', 'layerPerImg', 'markerRCMap_mat', 'max_tet_vol', 'n_refs', 'nu', 'offset', 'radius_edge_ratio', 'resolutionX', 'resolutionY', 'resolutionZ', 'upsample', 'vismesh_rel_area']>\n"
     ]
    }
   ],
   "source": [
    "# read re-analysis H5 file\n",
    "with h5py.File(InputH5, 'r+') as f:\n",
    "    print(\"Keys: %s\" % f.keys())\n",
    "\n",
    "    E = f['E'].value[()]\n",
    "    F = f['F'].value[()]\n",
    "    Nverts = f['Nverts'].value[()]\n",
    "    V = f['V'].value[()]\n",
    "    discr_order = f['discr_order'].value[()]\n",
    "    frames = f['frames'].value[()]\n",
    "    imgCols = f['imgCols'].value[()]\n",
    "    imgRows = f['imgRows'].value[()]\n",
    "    is_linear = f['is_linear'].value[()]\n",
    "    layerPerImg = f['layerPerImg'].value[()]\n",
    "    markerRCMap_mat = f['markerRCMap_mat'].value[()]\n",
    "    max_tet_vol = f['max_tet_vol'].value[()]\n",
    "    n_refs = f['n_refs'].value[()]\n",
    "    nu = f['nu'].value[()]\n",
    "    offset = f['offset'].value[()]\n",
    "    radius_edge_ratio = f['radius_edge_ratio'].value[()]\n",
    "    resolutionX = f['resolutionX'].value[()]\n",
    "    resolutionY = f['resolutionY'].value[()]\n",
    "    resolutionZ = f['resolutionZ'].value[()]\n",
    "    upsample = f['upsample'].value[()]\n",
    "    vismesh_rel_area = f['vismesh_rel_area'].value[()]\n",
    "\n",
    "    VV = np.zeros((frames, Nverts, 3))\n",
    "    for i in range(frames):\n",
    "        VV[i, :, :] = V[i*Nverts:(i+1)*Nverts, :]"
   ]
  },
  {
   "cell_type": "code",
   "execution_count": 18,
   "metadata": {},
   "outputs": [],
   "source": [
    "# re-store global displacement\n",
    "#dispTxt = '/Users/ziyizhang/Projects/tmp/meanDisp.txt'\n",
    "#meanDisp = np.loadtxt(dispTxt)\n",
    "#VV_raw = np.array([VV[i, :, :]+meanDisp[i, :].reshape(1, 3) for i in range(VV.shape[0])])\n",
    "VV_raw = VV"
   ]
  },
  {
   "cell_type": "code",
   "execution_count": 19,
   "metadata": {},
   "outputs": [],
   "source": [
    "# The area to estimate global displacement\n",
    "# idxArray = np.array([1, 2, 3, 6, 12], dtype=int)\n",
    "alignPosArray = np.array([VV_raw[i, idxArray, :] for i in range(VV_raw.shape[0])])"
   ]
  },
  {
   "cell_type": "code",
   "execution_count": 20,
   "metadata": {},
   "outputs": [
    {
     "output_type": "display_data",
     "data": {
      "text/plain": "Renderer(camera=PerspectiveCamera(children=(DirectionalLight(color='white', intensity=0.6, position=(159.10311…",
      "application/vnd.jupyter.widget-view+json": {
       "version_major": 2,
       "version_minor": 0,
       "model_id": "44b5fe8e500a44edb396b9ba3b9311a4"
      }
     },
     "metadata": {}
    },
    {
     "output_type": "execute_result",
     "data": {
      "text/plain": [
       "3"
      ]
     },
     "metadata": {},
     "execution_count": 20
    }
   ],
   "source": [
    "# Visualize the selected index array (before alignment)\n",
    "# red is frame-0, blue is frame-\"frame\"\n",
    "frame = VV_raw.shape[0]-1\n",
    "plt = mp.plot(VV_raw[0], Geometry.f2e(F))\n",
    "plt.add_edges(VV_raw[frame], Geometry.f2e(F))\n",
    "plt.add_points(alignPosArray[0], shading={\"point_color\": \"red\", \"point_size\": 26})\n",
    "plt.add_points(alignPosArray[frame], shading={\"point_color\": \"blue\", \"point_size\": 20})"
   ]
  },
  {
   "cell_type": "code",
   "execution_count": 22,
   "metadata": {},
   "outputs": [],
   "source": [
    "# do alignment\n",
    "VV_new = np.zeros((VV_raw.shape[0], VV_raw.shape[1], VV_raw.shape[2]))\n",
    "alignPosArray_post = np.zeros((alignPosArray.shape[0], alignPosArray.shape[1], alignPosArray.shape[2]))\n",
    "for f in range(VV_raw.shape[0]):\n",
    "    #print(f)\n",
    "    s, R, T = igl.procrustes(alignPosArray[f], alignPosArray[0], False, False)\n",
    "    #print(R)\n",
    "    #print(T)\n",
    "    assert(s==1.0)\n",
    "    #tt = np.matmul(VV_raw[0], R) + T.reshape(1, 3)\n",
    "    #print(\"    ->   \", np.min(tt - VV_raw[f]))\n",
    "    VV_new[f, :, :] = np.matmul(VV_raw[f], R) + T.reshape(1, 3)\n",
    "    alignPosArray_post[f, :, :] = np.matmul(alignPosArray[f], R) + T.reshape(1, 3)"
   ]
  },
  {
   "cell_type": "code",
   "execution_count": 23,
   "metadata": {},
   "outputs": [
    {
     "output_type": "display_data",
     "data": {
      "text/plain": "Renderer(camera=PerspectiveCamera(children=(DirectionalLight(color='white', intensity=0.6, position=(159.10311…",
      "application/vnd.jupyter.widget-view+json": {
       "version_major": 2,
       "version_minor": 0,
       "model_id": "195f2faeb6e647218c11817f8b9742ad"
      }
     },
     "metadata": {}
    },
    {
     "output_type": "execute_result",
     "data": {
      "text/plain": [
       "3"
      ]
     },
     "metadata": {},
     "execution_count": 23
    }
   ],
   "source": [
    "# Visualize the selected index array (after rotation+translation alignment)\n",
    "# red is frame-0, blue is frame-\"frame\"\n",
    "frame = VV_raw.shape[0]-1\n",
    "plt = mp.plot(VV_raw[0], Geometry.f2e(F))\n",
    "plt.add_edges(VV_new[frame], Geometry.f2e(F))\n",
    "plt.add_points(alignPosArray[0], shading={\"point_color\": \"red\", \"point_size\": 26})\n",
    "plt.add_points(alignPosArray_post[frame], shading={\"point_color\": \"blue\", \"point_size\": 20})"
   ]
  },
  {
   "cell_type": "code",
   "execution_count": 24,
   "metadata": {},
   "outputs": [],
   "source": [
    "# write result to new H5 file\n",
    "# read re-analysis H5 file\n",
    "OutputH5 = InputH5[:-3] + \"-NewGlobalDisp.h5\"\n",
    "\n",
    "# get V_new\n",
    "V_new = VV_new.reshape(Nverts*frames, 3)\n",
    "VV_ = np.zeros((frames, Nverts, 3))\n",
    "for i in range(frames):\n",
    "    VV_[i, :, :] = V_new[i*Nverts:(i+1)*Nverts, :]\n",
    "assert(np.min(VV_-VV_new) == 0)\n",
    "\n",
    "with h5py.File(OutputH5, 'w') as f:\n",
    "\n",
    "    f.create_dataset('E', data=E)\n",
    "    f.create_dataset('F', data=F)\n",
    "    f.create_dataset('Nverts', data=Nverts)\n",
    "    f.create_dataset('V', data=V_new)\n",
    "    f.create_dataset('discr_order', data=discr_order)\n",
    "    f.create_dataset('frames', data=frames)\n",
    "    f.create_dataset('imgCols', data=imgCols)\n",
    "    f.create_dataset('imgRows', data=imgRows)\n",
    "    f.create_dataset('is_linear', data=is_linear)\n",
    "    f.create_dataset('layerPerImg', data=layerPerImg)\n",
    "    f.create_dataset('markerRCMap_mat', data=markerRCMap_mat)\n",
    "    f.create_dataset('max_tet_vol', data=max_tet_vol)\n",
    "    f.create_dataset('n_refs', data=n_refs)\n",
    "    f.create_dataset('nu', data=nu)\n",
    "    f.create_dataset('offset', data=offset)\n",
    "    f.create_dataset('radius_edge_ratio', data=radius_edge_ratio)\n",
    "    f.create_dataset('resolutionX', data=resolutionX)\n",
    "    f.create_dataset('resolutionY', data=resolutionY)\n",
    "    f.create_dataset('resolutionZ', data=resolutionZ)\n",
    "    f.create_dataset('upsample', data=upsample)\n",
    "    f.create_dataset('vismesh_rel_area', data=vismesh_rel_area)\n",
    "\n",
    "    VV = np.zeros((frames, Nverts, 3))\n",
    "    for i in range(frames):\n",
    "        VV[i, :, :] = V[i*Nverts:(i+1)*Nverts, :]"
   ]
  },
  {
   "cell_type": "code",
   "execution_count": 17,
   "metadata": {},
   "outputs": [],
   "source": [
    " "
   ]
  },
  {
   "cell_type": "code",
   "execution_count": null,
   "metadata": {},
   "outputs": [],
   "source": []
  },
  {
   "cell_type": "code",
   "execution_count": 19,
   "metadata": {},
   "outputs": [],
   "source": [
    "## Add point\n",
    "adjList = np.array([86, 80, 93, 107, 110, 96])\n",
    "adjList2 = np.array([77, 78, 87, 99, 104, 92])\n",
    "VV_addPt = np.zeros((frames, Nverts+2, 3))\n",
    "for i in range(frames):\n",
    "    newPt = np.mean(VV[i, adjList, :], axis=0)\n",
    "    newPt2 = np.mean(VV[i, adjList2, :], axis=0)\n",
    "    VV_addPt[i, :, :] = np.vstack((VV[i, :, :], np.vstack((newPt, newPt2))))\n",
    "\n",
    "newTri = np.array([\n",
    "    [adjList[0], Nverts, adjList[1]], \n",
    "    [adjList[1], Nverts, adjList[2]], \n",
    "    [adjList[2], Nverts, adjList[3]], \n",
    "    [adjList[3], Nverts, adjList[4]], \n",
    "    [adjList[4], Nverts, adjList[5]], \n",
    "    [adjList[5], Nverts, adjList[0]],\n",
    "    [adjList2[0], Nverts+1, adjList2[1]], \n",
    "    [adjList2[1], Nverts+1, adjList2[2]], \n",
    "    [adjList2[2], Nverts+1, adjList2[3]], \n",
    "    [adjList2[3], Nverts+1, adjList2[4]], \n",
    "    [adjList2[4], Nverts+1, adjList2[5]], \n",
    "    [adjList2[5], Nverts+1, adjList2[0]]\n",
    "])\n",
    "F_addPt = np.vstack((F, newTri))"
   ]
  },
  {
   "cell_type": "code",
   "execution_count": 20,
   "metadata": {},
   "outputs": [],
   "source": [
    "## Add point\n",
    "# write result to new H5 file\n",
    "# read re-analysis H5 file\n",
    "OutputH5 = InputH5[:-3] + \"-AddVertex.h5\"\n",
    "\n",
    "# get V_new\n",
    "V_new = VV_addPt.reshape((Nverts+2)*frames, 3)\n",
    "\n",
    "with h5py.File(OutputH5, 'w') as f:\n",
    "\n",
    "    f.create_dataset('E', data=E)\n",
    "    f.create_dataset('F', data=F_addPt)\n",
    "    f.create_dataset('Nverts', data=Nverts+2)\n",
    "    f.create_dataset('V', data=V_new)\n",
    "    f.create_dataset('discr_order', data=discr_order)\n",
    "    f.create_dataset('frames', data=frames)\n",
    "    f.create_dataset('imgCols', data=imgCols)\n",
    "    f.create_dataset('imgRows', data=imgRows)\n",
    "    f.create_dataset('is_linear', data=is_linear)\n",
    "    f.create_dataset('layerPerImg', data=layerPerImg)\n",
    "    f.create_dataset('markerRCMap_mat', data=markerRCMap_mat)\n",
    "    f.create_dataset('max_tet_vol', data=max_tet_vol)\n",
    "    f.create_dataset('n_refs', data=n_refs)\n",
    "    f.create_dataset('nu', data=nu)\n",
    "    f.create_dataset('offset', data=offset)\n",
    "    f.create_dataset('radius_edge_ratio', data=radius_edge_ratio)\n",
    "    f.create_dataset('resolutionX', data=resolutionX)\n",
    "    f.create_dataset('resolutionY', data=resolutionY)\n",
    "    f.create_dataset('resolutionZ', data=resolutionZ)\n",
    "    f.create_dataset('upsample', data=upsample)\n",
    "    f.create_dataset('vismesh_rel_area', data=vismesh_rel_area)"
   ]
  },
  {
   "cell_type": "code",
   "execution_count": null,
   "metadata": {},
   "outputs": [],
   "source": []
  }
 ],
 "metadata": {
  "kernelspec": {
   "display_name": "Python 3.8",
   "language": "python",
   "name": "python3"
  },
  "language_info": {
   "codemirror_mode": {
    "name": "ipython",
    "version": 3
   },
   "file_extension": ".py",
   "mimetype": "text/x-python",
   "name": "python",
   "nbconvert_exporter": "python",
   "pygments_lexer": "ipython3",
   "version": "3.8.5-final"
  }
 },
 "nbformat": 4,
 "nbformat_minor": 4
}