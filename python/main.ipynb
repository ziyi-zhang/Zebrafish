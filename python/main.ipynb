{
 "cells": [
  {
   "cell_type": "code",
   "execution_count": 1,
   "metadata": {},
   "outputs": [],
   "source": [
    "import numpy as np\n",
    "import numpy.linalg\n",
    "import scipy.io\n",
    "import meshplot as mp\n",
    "from igl import *\n",
    "import meshio\n",
    "import h5py\n",
    "\n",
    "import sys\n",
    "sys.path.append('./ShellUtils')\n",
    "%load_ext autoreload\n",
    "%autoreload 2\n",
    "import Gen, TriMesh, Visual, Geometry"
   ]
  },
  {
   "cell_type": "code",
   "execution_count": 10,
   "metadata": {},
   "outputs": [],
   "source": [
    "InputH5 = '/Users/ziyizhang/Projects/Zebrafish/data/ctrl_em1_filter-analysis-02_18T09_59-AnalysisInput.h5'\n",
    "idxArray = np.array([1, 2, 3, 6, 12, 28], dtype=int)  # index of markers to align\n",
    "                                                  # cannot be too small or too symmetric"
   ]
  },
  {
   "cell_type": "code",
   "execution_count": 11,
   "metadata": {},
   "outputs": [
    {
     "output_type": "stream",
     "name": "stdout",
     "text": [
      "Keys: <KeysViewHDF5 ['E', 'F', 'Nverts', 'V', 'discr_order', 'frames', 'imgCols', 'imgRows', 'is_linear', 'layerPerImg', 'markerRCMap_mat', 'max_tet_vol', 'n_refs', 'nu', 'offset', 'radius_edge_ratio', 'resolutionX', 'resolutionY', 'resolutionZ', 'upsample', 'vismesh_rel_area']>\n"
     ]
    }
   ],
   "source": [
    "# read re-analysis H5 file\n",
    "with h5py.File(InputH5, 'r+') as f:\n",
    "    print(\"Keys: %s\" % f.keys())\n",
    "\n",
    "    E = f['E'].value[()]\n",
    "    F = f['F'].value[()]\n",
    "    Nverts = f['Nverts'].value[()]\n",
    "    V = f['V'].value[()]\n",
    "    discr_order = f['discr_order'].value[()]\n",
    "    frames = f['frames'].value[()]\n",
    "    imgCols = f['imgCols'].value[()]\n",
    "    imgRows = f['imgRows'].value[()]\n",
    "    is_linear = f['is_linear'].value[()]\n",
    "    layerPerImg = f['layerPerImg'].value[()]\n",
    "    markerRCMap_mat = f['markerRCMap_mat'].value[()]\n",
    "    max_tet_vol = f['max_tet_vol'].value[()]\n",
    "    n_refs = f['n_refs'].value[()]\n",
    "    nu = f['nu'].value[()]\n",
    "    offset = f['offset'].value[()]\n",
    "    radius_edge_ratio = f['radius_edge_ratio'].value[()]\n",
    "    resolutionX = f['resolutionX'].value[()]\n",
    "    resolutionY = f['resolutionY'].value[()]\n",
    "    resolutionZ = f['resolutionZ'].value[()]\n",
    "    upsample = f['upsample'].value[()]\n",
    "    vismesh_rel_area = f['vismesh_rel_area'].value[()]\n",
    "\n",
    "    VV = np.zeros((frames, Nverts, 3))\n",
    "    for i in range(frames):\n",
    "        VV[i, :, :] = V[i*Nverts:(i+1)*Nverts, :]"
   ]
  },
  {
   "cell_type": "code",
   "execution_count": 18,
   "metadata": {},
   "outputs": [],
   "source": [
    "# re-store global displacement\n",
    "#dispTxt = '/Users/ziyizhang/Projects/tmp/meanDisp.txt'\n",
    "#meanDisp = np.loadtxt(dispTxt)\n",
    "#VV_raw = np.array([VV[i, :, :]+meanDisp[i, :].reshape(1, 3) for i in range(VV.shape[0])])\n",
    "VV_raw = VV"
   ]
  },
  {
   "cell_type": "code",
   "execution_count": 19,
   "metadata": {},
   "outputs": [],
   "source": [
    "# The area to estimate global displacement\n",
    "# idxArray = np.array([1, 2, 3, 6, 12], dtype=int)\n",
    "alignPosArray = np.array([VV_raw[i, idxArray, :] for i in range(VV_raw.shape[0])])"
   ]
  },
  {
   "cell_type": "code",
   "execution_count": 20,
   "metadata": {},
   "outputs": [
    {
     "output_type": "display_data",
     "data": {
      "text/plain": "Renderer(camera=PerspectiveCamera(children=(DirectionalLight(color='white', intensity=0.6, position=(159.10311…",
      "application/vnd.jupyter.widget-view+json": {
       "version_major": 2,
       "version_minor": 0,
       "model_id": "44b5fe8e500a44edb396b9ba3b9311a4"
      }
     },
     "metadata": {}
    },
    {
     "output_type": "execute_result",
     "data": {
      "text/plain": [
       "3"
      ]
     },
     "metadata": {},
     "execution_count": 20
    }
   ],
   "source": [
    "# Visualize the selected index array (before alignment)\n",
    "# red is frame-0, blue is frame-\"frame\"\n",
    "frame = VV_raw.shape[0]-1\n",
    "plt = mp.plot(VV_raw[0], Geometry.f2e(F))\n",
    "plt.add_edges(VV_raw[frame], Geometry.f2e(F))\n",
    "plt.add_points(alignPosArray[0], shading={\"point_color\": \"red\", \"point_size\": 26})\n",
    "plt.add_points(alignPosArray[frame], shading={\"point_color\": \"blue\", \"point_size\": 20})"
   ]
  },
  {
   "cell_type": "code",
   "execution_count": 22,
   "metadata": {},
   "outputs": [],
   "source": [
    "# do alignment\n",
    "VV_new = np.zeros((VV_raw.shape[0], VV_raw.shape[1], VV_raw.shape[2]))\n",
    "alignPosArray_post = np.zeros((alignPosArray.shape[0], alignPosArray.shape[1], alignPosArray.shape[2]))\n",
    "for f in range(VV_raw.shape[0]):\n",
    "    #print(f)\n",
    "    s, R, T = igl.procrustes(alignPosArray[f], alignPosArray[0], False, False)\n",
    "    #print(R)\n",
    "    #print(T)\n",
    "    assert(s==1.0)\n",
    "    #tt = np.matmul(VV_raw[0], R) + T.reshape(1, 3)\n",
    "    #print(\"    ->   \", np.min(tt - VV_raw[f]))\n",
    "    VV_new[f, :, :] = np.matmul(VV_raw[f], R) + T.reshape(1, 3)\n",
    "    alignPosArray_post[f, :, :] = np.matmul(alignPosArray[f], R) + T.reshape(1, 3)"
   ]
  },
  {
   "cell_type": "code",
   "execution_count": 23,
   "metadata": {},
   "outputs": [
    {
     "output_type": "display_data",
     "data": {
      "text/plain": "Renderer(camera=PerspectiveCamera(children=(DirectionalLight(color='white', intensity=0.6, position=(159.10311…",
      "application/vnd.jupyter.widget-view+json": {
       "version_major": 2,
       "version_minor": 0,
       "model_id": "195f2faeb6e647218c11817f8b9742ad"
      }
     },
     "metadata": {}
    },
    {
     "output_type": "execute_result",
     "data": {
      "text/plain": [
       "3"
      ]
     },
     "metadata": {},
     "execution_count": 23
    }
   ],
   "source": [
    "# Visualize the selected index array (after rotation+translation alignment)\n",
    "# red is frame-0, blue is frame-\"frame\"\n",
    "frame = VV_raw.shape[0]-1\n",
    "plt = mp.plot(VV_raw[0], Geometry.f2e(F))\n",
    "plt.add_edges(VV_new[frame], Geometry.f2e(F))\n",
    "plt.add_points(alignPosArray[0], shading={\"point_color\": \"red\", \"point_size\": 26})\n",
    "plt.add_points(alignPosArray_post[frame], shading={\"point_color\": \"blue\", \"point_size\": 20})"
   ]
  },
  {
   "cell_type": "code",
   "execution_count": 24,
   "metadata": {},
   "outputs": [],
   "source": [
    "# write result to new H5 file\n",
    "# read re-analysis H5 file\n",
    "OutputH5 = InputH5[:-3] + \"-NewGlobalDisp.h5\"\n",
    "\n",
    "# get V_new\n",
    "V_new = VV_new.reshape(Nverts*frames, 3)\n",
    "VV_ = np.zeros((frames, Nverts, 3))\n",
    "for i in range(frames):\n",
    "    VV_[i, :, :] = V_new[i*Nverts:(i+1)*Nverts, :]\n",
    "assert(np.min(VV_-VV_new) == 0)\n",
    "\n",
    "with h5py.File(OutputH5, 'w') as f:\n",
    "\n",
    "    f.create_dataset('E', data=E)\n",
    "    f.create_dataset('F', data=F)\n",
    "    f.create_dataset('Nverts', data=Nverts)\n",
    "    f.create_dataset('V', data=V_new)\n",
    "    f.create_dataset('discr_order', data=discr_order)\n",
    "    f.create_dataset('frames', data=frames)\n",
    "    f.create_dataset('imgCols', data=imgCols)\n",
    "    f.create_dataset('imgRows', data=imgRows)\n",
    "    f.create_dataset('is_linear', data=is_linear)\n",
    "    f.create_dataset('layerPerImg', data=layerPerImg)\n",
    "    f.create_dataset('markerRCMap_mat', data=markerRCMap_mat)\n",
    "    f.create_dataset('max_tet_vol', data=max_tet_vol)\n",
    "    f.create_dataset('n_refs', data=n_refs)\n",
    "    f.create_dataset('nu', data=nu)\n",
    "    f.create_dataset('offset', data=offset)\n",
    "    f.create_dataset('radius_edge_ratio', data=radius_edge_ratio)\n",
    "    f.create_dataset('resolutionX', data=resolutionX)\n",
    "    f.create_dataset('resolutionY', data=resolutionY)\n",
    "    f.create_dataset('resolutionZ', data=resolutionZ)\n",
    "    f.create_dataset('upsample', data=upsample)\n",
    "    f.create_dataset('vismesh_rel_area', data=vismesh_rel_area)\n",
    "\n",
    "    VV = np.zeros((frames, Nverts, 3))\n",
    "    for i in range(frames):\n",
    "        VV[i, :, :] = V[i*Nverts:(i+1)*Nverts, :]"
   ]
  },
  {
   "cell_type": "code",
   "execution_count": 17,
   "metadata": {},
   "outputs": [],
   "source": [
    " "
   ]
  },
  {
   "cell_type": "code",
   "execution_count": 10,
   "metadata": {},
   "outputs": [],
   "source": [
    "VV_new_cache = VV_new"
   ]
  },
  {
   "cell_type": "code",
   "execution_count": null,
   "metadata": {},
   "outputs": [],
   "source": [
    "meanL = np.array([igl.avg_edge_length(np.squeeze(VV[f, :, :]), F) for f in range(frames)])"
   ]
  },
  {
   "cell_type": "code",
   "execution_count": null,
   "metadata": {},
   "outputs": [],
   "source": [
    "F.shape"
   ]
  },
  {
   "cell_type": "code",
   "execution_count": null,
   "metadata": {},
   "outputs": [],
   "source": [
    "tt = np.squeeze(VV[1, :, :])\n",
    "mp.plot(tt, F, shading={\"wireframe\": True})"
   ]
  },
  {
   "cell_type": "code",
   "execution_count": null,
   "metadata": {},
   "outputs": [],
   "source": [
    "# Read debug msh\n",
    "with h5py.File('/Users/ziyizhang/Projects/Zebrafish/release/test.h5', 'r+') as f:\n",
    "    print(\"Keys: %s\" % f.keys())\n",
    "    T = f['T'].value[()]\n",
    "    V = f['V'].value[()]\n",
    "\n",
    "    bm_v = f['bm_v'].value[()] \n",
    "    bm_f = f['bm_f'].value[()] \n",
    "    Tid = f['Tid'].value[()]\n",
    "    result_f = f['result_f'].value[()]"
   ]
  },
  {
   "cell_type": "code",
   "execution_count": null,
   "metadata": {},
   "outputs": [],
   "source": [
    "# clip\n",
    "z_min = -10\n",
    "z_max = 30\n",
    "\n",
    "plt = mp.plot(V, bm_f, shading={\"wireframe\": True})\n",
    "V_clip = np.array([V[i, 2] > z_min and V[i, 2] < z_max for i in range(V.shape[0])])\n",
    "T_clip = T[np.array([V_clip[T[i, 0]] and V_clip[T[i, 1]] and V_clip[T[i, 2]] and V_clip[T[i, 3]] for i in range(T.shape[0])])]\n",
    "plt.add_edges(V, Geometry.t2e(T_clip))\n",
    "plt.add_edges(bm_v, Geometry.f2e(bm_f), shading={\"line_color\": \"red\"})"
   ]
  },
  {
   "cell_type": "code",
   "execution_count": null,
   "metadata": {},
   "outputs": [],
   "source": [
    "print(Tid.shape)\n",
    "Tid_unique, count = np.unique(Tid, return_counts=True)\n",
    "print(Tid_unique.shape)\n",
    "Tid_unique[count > 1]"
   ]
  },
  {
   "cell_type": "code",
   "execution_count": null,
   "metadata": {},
   "outputs": [],
   "source": [
    "T_boundary = igl.boundary_facets(T)\n",
    "components = igl.face_components(T_boundary)\n",
    "print(components.max() + 1)\n",
    "\n",
    "plt = mp.plot(V, bm_f, shading={\"wireframe\": True})\n",
    "#plt = mp.plot(V, Geometry.t2e(T[Tid, :]), shading={\"wireframe\": True})\n",
    "plt.add_edges(V, Geometry.t2e(T[Tid]), shading={\"line_color\": \"blue\"})\n",
    "plt.add_edges(V, Geometry.f2e(bm_f), shading={\"line_color\": \"black\"})\n",
    "# plt.add_points(V[[129], :], shading={\"point_color\": \"red\", \"point_size\": 5})\n",
    "\n",
    "plt.add_points(V[[678]], shading={\"point_color\": \"red\", \"point_size\": 5})\n",
    "plt.add_points(V[[708]], shading={\"point_color\": \"blue\", \"point_size\": 5})\n",
    "plt.add_points(V[[147]], shading={\"point_color\": \"blue\", \"point_size\": 5})\n",
    "plt.add_points(V[[150]], shading={\"point_color\": \"blue\", \"point_size\": 5})"
   ]
  },
  {
   "cell_type": "code",
   "execution_count": null,
   "metadata": {},
   "outputs": [],
   "source": [
    "t_with_129 = np.where(np.any(T[Tid] == 129, axis = 1)) "
   ]
  },
  {
   "cell_type": "code",
   "execution_count": null,
   "metadata": {},
   "outputs": [],
   "source": [
    "np.unique(Tid).shape"
   ]
  },
  {
   "cell_type": "code",
   "execution_count": null,
   "metadata": {},
   "outputs": [],
   "source": [
    "plt = mp.plot(V, Geometry.t2e(T[Tid][t_with_129]), shading={\"wireframe\": \"true\", \"line_color\": \"red\"})\n",
    "plt.add_edges(V, Geometry.f2e(bm_f))\n",
    "\n",
    "plt.add_points(V[np.array([149, 138, 141, 129])], shading={\"point_color\": \"red\", \"point_size\": 5})\n",
    "plt.add_points(V[np.array([1679])], shading={\"point_color\": \"blue\", \"point_size\": 5})"
   ]
  },
  {
   "cell_type": "code",
   "execution_count": null,
   "metadata": {},
   "outputs": [],
   "source": [
    "TTid = T[Tid]"
   ]
  },
  {
   "cell_type": "code",
   "execution_count": null,
   "metadata": {},
   "outputs": [],
   "source": []
  },
  {
   "cell_type": "code",
   "execution_count": null,
   "metadata": {},
   "outputs": [],
   "source": [
    "Tid_array = T[Tid].flatten()"
   ]
  },
  {
   "cell_type": "code",
   "execution_count": null,
   "metadata": {},
   "outputs": [],
   "source": [
    "Tid_array = np.sort(Tid_array)"
   ]
  },
  {
   "cell_type": "code",
   "execution_count": null,
   "metadata": {},
   "outputs": [],
   "source": [
    "bmid_array = bm_f.flatten()\n",
    "bmid_array = np.sort(bmid_array)"
   ]
  },
  {
   "cell_type": "code",
   "execution_count": null,
   "metadata": {},
   "outputs": [],
   "source": [
    "np.where( bmid_array-Tid_array[0:906] != 0 )"
   ]
  },
  {
   "cell_type": "code",
   "execution_count": null,
   "metadata": {},
   "outputs": [],
   "source": [
    "bmid_array[675]"
   ]
  },
  {
   "cell_type": "code",
   "execution_count": null,
   "metadata": {},
   "outputs": [],
   "source": [
    "bmid_array"
   ]
  },
  {
   "cell_type": "code",
   "execution_count": null,
   "metadata": {},
   "outputs": [],
   "source": [
    "np.squeeze(Tid_array[0:906])"
   ]
  },
  {
   "cell_type": "code",
   "execution_count": null,
   "metadata": {},
   "outputs": [],
   "source": [
    "f = h5py.File('/Users/ziyizhang/Projects/Zebrafish/data/em5_19nov2020-3-1-analysis-02_15T02_04-AnalysisInput.h5', 'r+')\n",
    "print(\"Keys: %s\" % f.keys())\n",
    "E = f['E'].value[()]\n",
    "F = f['F'].value[()]\n",
    "Nverts = f['Nverts'].value[()]\n",
    "V = f['V'].value[()]\n",
    "discr_order = f['discr_order'].value[()]\n",
    "frames = f['frames'].value[()]\n",
    "markerRCMap_mat = f['markerRCMap_mat'].value[()]"
   ]
  },
  {
   "cell_type": "code",
   "execution_count": null,
   "metadata": {},
   "outputs": [],
   "source": []
  },
  {
   "cell_type": "code",
   "execution_count": null,
   "metadata": {},
   "outputs": [],
   "source": [
    "plt = mp.plot(shell_top, Geometry.f2e(F_h5), shading={\"wireframe\": True})\n",
    "plt.add_edges(shell_base, Geometry.f2e(F_h5))\n",
    "#plt.add_mesh(shell_top, Geometry.f2e(F_h5))"
   ]
  },
  {
   "cell_type": "code",
   "execution_count": null,
   "metadata": {},
   "outputs": [],
   "source": [
    "scipy.io.savemat('./MatlabScripts/length.mat', mdict={'mat': lengthMat})"
   ]
  },
  {
   "cell_type": "code",
   "execution_count": null,
   "metadata": {},
   "outputs": [],
   "source": [
    "# Gen cube test ply\n",
    "V_cube, F_cube = Gen.GenCubeObj()\n",
    "igl.write_triangle_mesh(\"./data/dualShell_cube.ply\", V_cube, F_cube, False)"
   ]
  },
  {
   "cell_type": "code",
   "execution_count": null,
   "metadata": {},
   "outputs": [],
   "source": [
    "# dualShell_test\n",
    "Vraw1 = np.array([[1, 1, 1], [2, 1, 1], [1, 2, 1]])\n",
    "Vraw2 = np.array([[1, 1, 2], [2, 1, 2], [1, 2, 2]])\n",
    "Vraw3 = np.array([[1, 1, 3], [3, 1, 3], [1, 3, 3]])\n",
    "Vraw4 = np.array([[1, 1, 4], [3, 1, 4], [1, 3, 4]])\n",
    "Fraw = np.array([[0, 1, 2]])\n",
    "V_shell = np.concatenate((Vraw1, Vraw2), axis=0)\n",
    "V_shell = np.concatenate((V_shell, Vraw3), axis=0)\n",
    "V_shell = np.concatenate((V_shell, Vraw4), axis=0)\n",
    "\n",
    "randTransMat = np.array([[-0.700390490817757,  -0.150045418195264,  -0.697810527901858],\n",
    "                         [-0.114407726497277,  -0.941413431486692,   0.317256399674106],\n",
    "                         [-0.704531072763853,   0.302038281505938,   0.642190660174339]])\n",
    "V_shell = randTransMat.dot(V_shell.transpose()).transpose()\n",
    "\n",
    "F_shell = np.concatenate((Fraw, Fraw+Vraw1.shape[0]), axis=0)\n",
    "F_shell = np.concatenate((F_shell, Fraw+2*Vraw1.shape[0]), axis=0)\n",
    "F_shell = np.concatenate((F_shell, Fraw+3*Vraw1.shape[0]), axis=0)"
   ]
  },
  {
   "cell_type": "code",
   "execution_count": null,
   "metadata": {},
   "outputs": [],
   "source": [
    "# Load processed mesh\n",
    "# mesh = meshio.read('./dataset/51509.stl.h5_.msh')\n",
    "# mesh = meshio.read('./dataset/log/log_Dec_26_1000/data/128483.stl.h5_.msh')\n",
    "# mesh = meshio.read('./dataset/log/log_Dec_27_1000/data/62286.stl.h5_.msh')\n",
    "# mesh = meshio.read('./dataset/log/log_Dec_28_1000/data/611675.stl.h5_.msh')\n",
    "# mesh = meshio.read('./dataset/log/log_Dec_28_1000/data/77918.stl.h5_.msh')\n",
    "# mesh = meshio.read('./dataset/log/log_Dec_28_1000/data/109130.stl.h5_.msh')\n",
    "# mesh = meshio.read('./dataset/tetgen_result.msh')\n",
    "# mesh = meshio.read('dataset/cube_2_5.obj.h5_col6.h_.msh')\n",
    "mesh = meshio.read('dataset/main_linkage_arm_6a_scaled_unpositioned_back_1.hh.sat.obj.h5_col9.h_.msh')\n",
    "# mesh = meshio.read('./data/dualShell_cube_.msh')\n",
    "V_msh = mesh.points\n",
    "T_msh = mesh.cells[0][1]\n",
    "#energy = mesh.cell_data_dict['slim_energy']['tetra']\n",
    " # label = mesh.cell_data['label'][0]"
   ]
  },
  {
   "cell_type": "code",
   "execution_count": null,
   "metadata": {},
   "outputs": [],
   "source": []
  },
  {
   "cell_type": "code",
   "execution_count": null,
   "metadata": {},
   "outputs": [],
   "source": [
    "mp.plot(V_msh, Geometry.t2e(T_msh), shading={\"wireframe\": True})"
   ]
  },
  {
   "cell_type": "code",
   "execution_count": null,
   "metadata": {},
   "outputs": [],
   "source": [
    "T_boundary = igl.boundary_facets(T_msh)\n",
    "components = igl.face_components(T_boundary)\n",
    "print(components.max() + 1)\n",
    "plt = mp.plot(V_msh, T_boundary[(components == 3), :], shading={\"wireframe\": True})\n",
    "plt.add_edges(V_msh, Geometry.f2e(T_boundary[(components == 1) | True, :]), shading={\"wireframe\": True})\n",
    "\n",
    "#v = np.array([[-1.6, 1.6, -1.6], [1.6, 1.6, -1.6], [1.6, 1.6, 1.6], [-0.49459213746493375, 1.7758694311449574, 0.39867713464991789], [2.1117691453623983, 2.1117691453623983, -2.1117691453623983]])\n",
    "#plt.add_mesh(v, (np.array([[0, 1, 2, 3], [0, 1, 2, 4]])), shading={\"wireframe\": True})"
   ]
  },
  {
   "cell_type": "code",
   "execution_count": null,
   "metadata": {},
   "outputs": [],
   "source": [
    "print(np.nonzero(energy > 10000))\n",
    "print(np.where(np.abs(energy - 18885) < 3))\n",
    "print(energy[10235])\n",
    "print(energy[10236])\n",
    "print(T_msh[804, :])\n",
    "print(T_msh[10235, :])\n",
    "print(T_msh[10236, :])"
   ]
  },
  {
   "cell_type": "code",
   "execution_count": null,
   "metadata": {},
   "outputs": [],
   "source": [
    "len(str)"
   ]
  },
  {
   "cell_type": "code",
   "execution_count": null,
   "metadata": {},
   "outputs": [],
   "source": [
    "V_in, F_in = igl.read_triangle_mesh('/Users/ziyizhang/Projects/ShellMesh/dataset/thin_wall_1.hh.sat.obj.h5.ply')\n",
    "print(V_in.shape)\n",
    "print(F_in.shape)\n",
    "print(F_in.max())"
   ]
  },
  {
   "cell_type": "code",
   "execution_count": null,
   "metadata": {},
   "outputs": [],
   "source": [
    "F_in[984, :]"
   ]
  },
  {
   "cell_type": "code",
   "execution_count": null,
   "metadata": {},
   "outputs": [],
   "source": [
    "a = igl.doublearea(V_in, F_in)"
   ]
  },
  {
   "cell_type": "code",
   "execution_count": null,
   "metadata": {},
   "outputs": [],
   "source": [
    "print(np.max(igl.face_components(F_in)))\n",
    "igl.boundary_facets(F_in)"
   ]
  },
  {
   "cell_type": "code",
   "execution_count": null,
   "metadata": {},
   "outputs": [],
   "source": [
    "print(V_in.shape)\n",
    "print(V_msh.shape)\n",
    "print(F_in.shape)\n",
    "print(F_boundary.shape)"
   ]
  },
  {
   "cell_type": "code",
   "execution_count": null,
   "metadata": {},
   "outputs": [],
   "source": [
    "F_boundary = igl.boundary_facets(T_msh)\n",
    "print(np.unique(F_boundary))\n",
    "vidx = np.setdiff1d(np.arange(1794), np.unique(F_boundary))\n",
    "print(vidx)"
   ]
  },
  {
   "cell_type": "code",
   "execution_count": null,
   "metadata": {},
   "outputs": [],
   "source": [
    "np.max(F_in)"
   ]
  },
  {
   "cell_type": "code",
   "execution_count": null,
   "metadata": {},
   "outputs": [],
   "source": [
    "plt = mp.plot(V_in, Geometry.f2e(F_in), shading={\"wireframe\": True})\n",
    "#plt = mp.plot(V_msh, Geometry.f2e(F_boundary))\n",
    "#plt = mp.plot(V_msh, T_msh, shading={\"wireframe\": True})\n",
    "#plt.add_points(V_msh[[1793], :], shading={\"point_size\": 0.01})"
   ]
  },
  {
   "cell_type": "code",
   "execution_count": null,
   "metadata": {},
   "outputs": [],
   "source": [
    "tt = np.arange(1400)\n",
    "vidx = np.setdiff1d(tt, np.unique(F))"
   ]
  },
  {
   "cell_type": "code",
   "execution_count": null,
   "metadata": {},
   "outputs": [],
   "source": [
    "mp.plot(V_msh, Geometry.t2e(T_msh))"
   ]
  },
  {
   "cell_type": "code",
   "execution_count": null,
   "metadata": {},
   "outputs": [],
   "source": [
    "plt = mp.plot(V_msh, Geometry.f2e(F_in), shading={\"wireframe\": True})\n",
    "plt.add_points(V_in[vidx, :], shading={\"point_size\": 0.01, \"point_color\": \"green\"})"
   ]
  },
  {
   "cell_type": "code",
   "execution_count": null,
   "metadata": {},
   "outputs": [],
   "source": [
    "# Bad tets\n",
    "T_msh_bad = T_msh[:, :]\n",
    "#T_msh_bad = T_msh[[804], :]\n",
    "print(\"#bad_tets = {}\".format(T_msh_bad.shape[0]))\n",
    "vol = igl.volume(V_msh, T_msh_bad)\n",
    "plt = mp.plot(V_msh, T_msh_bad, shading={\"wireframe\": True})\n",
    "\n",
    "\n",
    "plt.add_points(V_msh[[T_msh_bad[0, 0]], :], shading={\"point_size\": 0.01, \"point_color\": \"green\"})\n",
    "plt.add_points(V_msh[[T_msh_bad[0, 1]], :], shading={\"point_size\": 0.01, \"point_color\": \"yellow\"})\n",
    "plt.add_points(V_msh[[T_msh_bad[0, 2]], :], shading={\"point_size\": 0.01, \"point_color\": \"black\"})\n",
    "plt.add_points(V_msh[[T_msh_bad[0, 3]], :], shading={\"point_size\": 0.01})  # red\n",
    "\n",
    "# Add input shell\n",
    "V_in, F_in = igl.read_triangle_mesh('/Users/ziyizhang/Projects/ShellMesh/dataset/109130.stl.h5.ply')\n",
    "B0, B1, T1, T0 = np.split(V_in, 4)\n",
    "plt.add_lines(B1[Geometry.f2e(F_in)[:, 0]], B1[Geometry.f2e(F_in)[:, 1]], shading={\"line_color\": \"red\"})\n",
    "#plt.add_lines(B0[Geometry.f2e(F_in)[:, 0]], B0[Geometry.f2e(F_in)[:, 1]], shading={\"line_color\": \"red\"})\n",
    "plt.add_lines(T1[Geometry.f2e(F_in)[:, 0]], T1[Geometry.f2e(F_in)[:, 1]], shading={\"line_color\": \"blue\"})\n",
    "#plt.add_mesh(T1, F_in)\n",
    "#plt.add_edges(B0, Geometry.f2e(F_in), shading={\"wireframe\": True})\n",
    "#plt.add_edges(B1, Geometry.f2e(F_in), shading={\"wireframe\": True})\n"
   ]
  },
  {
   "cell_type": "code",
   "execution_count": null,
   "metadata": {},
   "outputs": [],
   "source": [
    "# Plot one-ring of a vert\n",
    "V, F = igl.read_triangle_mesh('/Users/ziyizhang/Projects/ShellMesh/dataset/611675.stl.h5.ply')\n",
    "B0, B1, T1, T0 = np.split(V, 4)\n",
    "V1, T1 = igl.read_msh('./dataset/log/log_Dec_28_1000/data/611675.stl.h5_.msh')\n",
    "targetVert = 2707\n",
    "partT = T1[ np.where(T1==targetVert)[0] ]\n",
    "print(\"#tets = {}\".format(partT.shape[0]))\n",
    "\n",
    "plt = mp.plot(V1, Geometry.t2e(partT))\n",
    "#plt.add_points(V1[[targetVert]])\n",
    "plt.add_points(V_msh[[T_msh_bad[0, 0]], :], shading={\"point_size\": 0.01, \"point_color\": \"green\"})\n",
    "plt.add_points(V_msh[[T_msh_bad[0, 1]], :], shading={\"point_size\": 0.01, \"point_color\": \"yellow\"})\n",
    "plt.add_points(V_msh[[T_msh_bad[0, 2]], :], shading={\"point_size\": 0.01, \"point_color\": \"black\"})\n",
    "plt.add_points(V_msh[[T_msh_bad[0, 3]], :], shading={\"point_size\": 0.01})  # red"
   ]
  },
  {
   "cell_type": "code",
   "execution_count": null,
   "metadata": {},
   "outputs": [],
   "source": [
    "min(1, 2)"
   ]
  },
  {
   "cell_type": "code",
   "execution_count": null,
   "metadata": {},
   "outputs": [],
   "source": [
    "V2 = V1.copy()\n",
    "V2[11128] = V2[872]\n",
    "p = mp.plot(V2, Geometry.t2e(partT), wireframe=True)\n",
    "p.add_points(V2[[11128,872]], point_size=0.02)\n",
    "p.add_edges(V2, Geometry.f2e(igl.boundary_facets(partT)), line_color='red')\n",
    "np.linalg.norm(V1[np.unique(partT)] - V1[[11128]],axis=1)[:-1].argmin()\n",
    "igl.volume(V2, partT)\n",
    "partT[partT==11128] = 872\n",
    "igl.volume(V2,np.array([t for t in partT if len(set(t)) ==4]))"
   ]
  },
  {
   "cell_type": "code",
   "execution_count": null,
   "metadata": {},
   "outputs": [],
   "source": [
    "# torch\n",
    "import torch as th\n",
    "\n",
    "thV = th.from_numpy(V1)\n",
    "thV.requires_grad_()\n",
    "x = tw_mips3d(thV, th.from_numpy(partT))\n",
    "x.sum().backward()\n",
    "V2 = V1.copy()\n",
    "V2[11128] -= 1e-20*thV.grad[11128].numpy()\n",
    "(tw_mips3d(V2,partT)).sum()\n",
    "(tw_mips3d(V1,partT)).sum()\n",
    "igl.volume(V2, partT).min()\n",
    "igl.volume(V1, partT).min()\n",
    "\n",
    "\n",
    "def mips3d(V, T):\n",
    "    from numpy import sqrt\n",
    "    Jacs = V[T[:,1:]]-V[T[:,:1]]\n",
    "    invstd = th.from_numpy(np.linalg.inv(np.array([[1,0,0],[0.5,sqrt(3)/2.,0],[0.5,sqrt(3)/6.,sqrt(2)/sqrt(3)]])))\n",
    "    Jacs = invstd@Jacs\n",
    "    frob = th.sum(Jacs**2,axis=1).sum(axis=1)\n",
    "    #invfrob = th.sum(th.inverse(Jacs))\n",
    "    dets = th.det(Jacs)\n",
    "    return frob/dets**(2/3)"
   ]
  },
  {
   "cell_type": "code",
   "execution_count": null,
   "metadata": {},
   "outputs": [],
   "source": [
    "V_in, F_in = igl.read_triangle_mesh('/Users/ziyizhang/Projects/ShellMesh/dataset/51509.stl.h5.ply')\n",
    "plt = mp.plot(V_msh, T_msh[energy > 500, :], c = np.ones(3)/2, shading={\"wireframe\": True})\n",
    "B0,B1,T1,T0 = np.split(V_in, 4)\n",
    "plt.add_mesh(T0, (F_in), shading={\"wireframe\": True})\n",
    "plt.add_mesh(T1, (F_in), shading={\"wireframe\": True})"
   ]
  },
  {
   "cell_type": "code",
   "execution_count": null,
   "metadata": {},
   "outputs": [],
   "source": [
    "vols = igl.volume(V_msh, T_msh)\n",
    "# B0,B1,T1,T0 = np.split(Vs,4)\n",
    "np.median(vols)\n",
    "T_boundary = igl.boundary_facets(T_msh)\n",
    "components = igl.face_components(T_boundary)\n",
    "p = mp.plot(V_msh, T_boundary[(components == -1), :], shading={\"wireframe\": True})\n",
    "p.add_mesh(V_msh, T_msh[vols<1e-9], c=np.ones(3)/3, shading={\"wireframe\": True})\n",
    "# p.add_edges(V_msh, Geometry.f2e(T_msh), shading={\"wireframe\": True})"
   ]
  },
  {
   "cell_type": "code",
   "execution_count": null,
   "metadata": {},
   "outputs": [],
   "source": [
    "p = mp.plot(V_msh_BFS, np.array([[32561, 13493, 17317, 13793]]), shading={\"wireframe\": True})\n",
    "# Clipping\n",
    "F_mask = np.zeros(F.shape[0])\n",
    "xCoord = V[:, 0]\n",
    "yCoord = V[:, 1]\n",
    "zCoord = V[:, 2]\n",
    "xThres_max = (xCoord.max() - xCoord.min()) * 0.12 + xCoord.min()\n",
    "xThres_min = (xCoord.max() - xCoord.min()) * 0.05 + xCoord.min()\n",
    "yThres_max = (yCoord.max() - yCoord.min()) * 0.3 + yCoord.min()\n",
    "yThres_min = (yCoord.max() - yCoord.min()) * 0.25 + yCoord.min()\n",
    "zThres_max = (zCoord.max() - zCoord.min()) * 0.85 + zCoord.min()\n",
    "zThres_min = (zCoord.max() - zCoord.min()) * 0.6 + zCoord.min()\n",
    "for i in range(int(F.shape[0]/4), int(F.shape[0]/4*3)):\n",
    "    if ((V[F[i, 0], 0] < xThres_max) or (V[F[i, 1], 0] < xThres_max) or (V[F[i, 2], 0] < xThres_max)) and \\\n",
    "       ((V[F[i, 0], 1] < yThres_max) or (V[F[i, 1], 1] < yThres_max) or (V[F[i, 2], 1] < yThres_max)) and \\\n",
    "       ((V[F[i, 0], 0] > xThres_min) or (V[F[i, 1], 0] > xThres_min) or (V[F[i, 2], 0] > xThres_min)) and \\\n",
    "       ((V[F[i, 0], 1] > yThres_min) or (V[F[i, 1], 1] > yThres_min) or (V[F[i, 2], 1] > yThres_min)) and \\\n",
    "       ((V[F[i, 0], 2] > zThres_min) or (V[F[i, 1], 2] > zThres_min) or (V[F[i, 2], 2] > zThres_min)) and \\\n",
    "       ((V[F[i, 0], 2] < zThres_max) or (V[F[i, 1], 2] < zThres_max) or (V[F[i, 2], 2] < zThres_max)):\n",
    "        F_mask[i] = True\n",
    "F_mask = np.array(F_mask, dtype=bool)\n",
    "\n",
    "colors = np.array([[1, 2, 3, 4]])\n",
    "colors = np.tile(colors, (int(F.shape[0]/4), 1))\n",
    "colors = colors.flatten('F')\n",
    "p.add_mesh(V, F[F_mask, :], c=colors[F_mask], shading={\"wireframe\": True})"
   ]
  },
  {
   "cell_type": "code",
   "execution_count": null,
   "metadata": {},
   "outputs": [],
   "source": [
    "# boundary_facets\n",
    "F_bound = igl.boundary_facets(T_msh)\n",
    "components = igl.face_components(F_bound)\n",
    "\n",
    "plt = mp.plot(V_msh, F_bound[components == 0, :], shading={\"wireframe\": True})\n",
    "# plt.add_edges(V, Geometry.f2e(F))"
   ]
  },
  {
   "cell_type": "code",
   "execution_count": null,
   "metadata": {},
   "outputs": [],
   "source": [
    "# boundary_facets (clip)\n",
    "F_bound = igl.boundary_facets(T_msh)\n",
    "components = igl.face_components(F_bound)\n",
    "\n",
    "N = F_bound.shape[0]\n",
    "mask = np.zeros((N))\n",
    "xCoord = V_msh[:, 0]\n",
    "xThres = (xCoord.max() + xCoord.min()) / 2.0\n",
    "for i in range(N):\n",
    "    x_mean = (V_msh[F_bound[i, 0], 0] + V_msh[F_bound[i, 1], 0] + V_msh[F_bound[i, 2], 0]) / 3.0\n",
    "    mask[i] = (x_mean < xThres) & (components[i] < 57)\n",
    "mask = np.array(mask, dtype=bool)\n",
    "\n",
    "plt = mp.plot(V_msh, F_bound[mask, :], shading={\"wireframe\": True})\n"
   ]
  },
  {
   "cell_type": "code",
   "execution_count": null,
   "metadata": {},
   "outputs": [],
   "source": [
    "# boundary_facets\n",
    "T_msh_temp = T_msh[(label == 8) | (label == 9), :]\n",
    "Visual.Explode(V_msh, T_msh_temp, 0.25)\n",
    "#plt = mp.plot(V_msh, F_bound[c == 0, :], shading={\"wireframe\": True})\n",
    "#plt.add_mesh(V_msh, F_bound[c == 1, :])"
   ]
  },
  {
   "cell_type": "code",
   "execution_count": null,
   "metadata": {},
   "outputs": [],
   "source": [
    "F_bound[components == 2, :]"
   ]
  },
  {
   "cell_type": "code",
   "execution_count": null,
   "metadata": {},
   "outputs": [],
   "source": [
    "testArr = np.array([5787, 81, 52, 5788])\n",
    "M = T_msh.shape[0]\n",
    "for i in range(M):\n",
    "    if (T_msh[i, 1] in testArr) and (T_msh[i, 2] in testArr) and (T_msh[i, 3] in testArr) :\n",
    "        print(i)\n",
    "        print(T_msh[i, :])\n",
    "        print(label[i])\n",
    "        break\n",
    "print(\"done\")"
   ]
  },
  {
   "cell_type": "code",
   "execution_count": null,
   "metadata": {},
   "outputs": [],
   "source": []
  }
 ],
 "metadata": {
  "kernelspec": {
   "display_name": "Python 3.8",
   "language": "python",
   "name": "python3"
  },
  "language_info": {
   "codemirror_mode": {
    "name": "ipython",
    "version": 3
   },
   "file_extension": ".py",
   "mimetype": "text/x-python",
   "name": "python",
   "nbconvert_exporter": "python",
   "pygments_lexer": "ipython3",
   "version": "3.8.5-final"
  }
 },
 "nbformat": 4,
 "nbformat_minor": 4
}